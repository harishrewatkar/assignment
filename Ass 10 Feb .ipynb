{
 "cells": [
  {
   "cell_type": "markdown",
   "id": "96f34cc1-093d-40a1-9463-7122c8ecb001",
   "metadata": {},
   "source": [
    "Q1. Which function is used to open a file? What are the different modes of opening a file? Explain each mode\n",
    "of file opening."
   ]
  },
  {
   "cell_type": "markdown",
   "id": "b30cbda1-5565-4cd3-924d-db812c67bdab",
   "metadata": {},
   "source": [
    "Ans : 'open' function is used to open the file. There are multiple modes of opening a file which as follows : 1) 'r' : is use for the read the file. It is default mode for the open file. 2) 'w' : is use for the writing the file but before it truncate & then write. 3) 'x' :  use for create a new file & open for the writing. 4) 'a' : is use for to writing and append it at end of the text if exist. 5) 'b' : use for read & write a binary like binary code it's not readable for the human directly 6) 't' 7) '+' 8) 'U'"
   ]
  },
  {
   "cell_type": "markdown",
   "id": "b8814536-ae50-4b32-922c-00de4017dc45",
   "metadata": {},
   "source": [
    "Q2. Why close() function is used? Why is it important to close a file?"
   ]
  },
  {
   "cell_type": "markdown",
   "id": "495eebf7-d231-428e-aca1-3edf11143321",
   "metadata": {},
   "source": [
    "Ans : We use close() function for the close the file but before close the file whatever we write there it saved & then closed means after use close function we can see changes in the file if we don't use close function & only write in the file so we cannot see any changes in the file."
   ]
  },
  {
   "cell_type": "markdown",
   "id": "fee65699-2814-4c3b-8365-022df13a40d2",
   "metadata": {},
   "source": [
    "Q3. Write a python program to create a text file. Write ‘I want to become a Data Scientist’ in that file. Then\n",
    "close the file. Open this file and read the content of the file."
   ]
  },
  {
   "cell_type": "code",
   "execution_count": 137,
   "id": "a8fe7f41-bd31-473d-94da-0c589f131d67",
   "metadata": {},
   "outputs": [],
   "source": [
    "a = open('a.txt', 'w')"
   ]
  },
  {
   "cell_type": "code",
   "execution_count": 138,
   "id": "13a87361-ee12-4796-815a-414b9da8648e",
   "metadata": {},
   "outputs": [
    {
     "data": {
      "text/plain": [
       "33"
      ]
     },
     "execution_count": 138,
     "metadata": {},
     "output_type": "execute_result"
    }
   ],
   "source": [
    "a.write('I want to become a Data Scientist')"
   ]
  },
  {
   "cell_type": "code",
   "execution_count": 139,
   "id": "ac4301a7-9900-4274-80e5-d35228d0c4f8",
   "metadata": {},
   "outputs": [],
   "source": [
    "a.close()"
   ]
  },
  {
   "cell_type": "code",
   "execution_count": 140,
   "id": "ee3718ac-b75a-48b2-a23f-ea1068c313f1",
   "metadata": {},
   "outputs": [],
   "source": [
    "b = open('a.txt', 'r')"
   ]
  },
  {
   "cell_type": "code",
   "execution_count": 141,
   "id": "284b0861-8987-4467-a74f-808bee2c239b",
   "metadata": {},
   "outputs": [
    {
     "data": {
      "text/plain": [
       "'I want to become a Data Scientist'"
      ]
     },
     "execution_count": 141,
     "metadata": {},
     "output_type": "execute_result"
    }
   ],
   "source": [
    "b.read()"
   ]
  },
  {
   "cell_type": "markdown",
   "id": "44633220-8422-4d26-9de4-15593331924b",
   "metadata": {},
   "source": [
    "Q4. Explain the following with python code: read(), readline() and readlines()."
   ]
  },
  {
   "cell_type": "markdown",
   "id": "ad962b08-1fe8-4302-a2dc-df9d1bfb78b1",
   "metadata": {},
   "source": [
    "Ans : 1) read() function read all content at one time & return as a string.\n",
    "2) readline() function read one line content at one time & return as string.You need call readline function again & again for read next line content. \n",
    "3) readlines() function read all content at one time & returns them as a list of string."
   ]
  },
  {
   "cell_type": "code",
   "execution_count": 142,
   "id": "a7b26eb8-07be-4bb0-a5bd-7fb5abc06c84",
   "metadata": {},
   "outputs": [],
   "source": [
    "text = open('file.txt', 'w')"
   ]
  },
  {
   "cell_type": "code",
   "execution_count": 143,
   "id": "27660f01-ca78-46fd-86c8-1c02811f5e1c",
   "metadata": {},
   "outputs": [],
   "source": [
    "new_text = text.write('There are many variations of passages of Lorem Ipsum available, but the majority have suffered alteration in some form, by injected humour, or randomised words which dont look even slightly believable. If you are going to use a passage of Lorem Ipsum, you need to be sure there anything embarrassing hidden in the middle of text. All the Lorem Ipsum generators on the Internet tend to repeat predefined chunks as necessary, making this the first true generator on the Internet. It uses a dictionary of over 200 Latin words, combined with a handful of model sentence structures, to generate Lorem Ipsum which looks reasonable. The generated Lorem Ipsum is therefore always free from repetition, injected humour, or non-characteristic words etc.')"
   ]
  },
  {
   "cell_type": "code",
   "execution_count": 144,
   "id": "bdac222d-4119-4427-8448-954f29a5af8a",
   "metadata": {},
   "outputs": [],
   "source": [
    "text.close()"
   ]
  },
  {
   "cell_type": "code",
   "execution_count": 145,
   "id": "4a2c2c77-97b0-4391-b591-e7764bd37c21",
   "metadata": {},
   "outputs": [],
   "source": [
    "read = open('file.txt', 'r')"
   ]
  },
  {
   "cell_type": "code",
   "execution_count": 146,
   "id": "deaa9e1a-894a-4749-b94c-a0c3d5c1709d",
   "metadata": {},
   "outputs": [],
   "source": [
    "read1 = read.read()"
   ]
  },
  {
   "cell_type": "code",
   "execution_count": 147,
   "id": "ed5bb445-fc06-495b-8f38-40f3696d36a8",
   "metadata": {},
   "outputs": [
    {
     "data": {
      "text/plain": [
       "'There are many variations of passages of Lorem Ipsum available, but the majority have suffered alteration in some form, by injected humour, or randomised words which dont look even slightly believable. If you are going to use a passage of Lorem Ipsum, you need to be sure there anything embarrassing hidden in the middle of text. All the Lorem Ipsum generators on the Internet tend to repeat predefined chunks as necessary, making this the first true generator on the Internet. It uses a dictionary of over 200 Latin words, combined with a handful of model sentence structures, to generate Lorem Ipsum which looks reasonable. The generated Lorem Ipsum is therefore always free from repetition, injected humour, or non-characteristic words etc.'"
      ]
     },
     "execution_count": 147,
     "metadata": {},
     "output_type": "execute_result"
    }
   ],
   "source": [
    "read1"
   ]
  },
  {
   "cell_type": "code",
   "execution_count": 148,
   "id": "18543269-6609-4ffd-879f-a5b32c43f476",
   "metadata": {},
   "outputs": [
    {
     "data": {
      "text/plain": [
       "0"
      ]
     },
     "execution_count": 148,
     "metadata": {},
     "output_type": "execute_result"
    }
   ],
   "source": [
    "read.seek(0)"
   ]
  },
  {
   "cell_type": "code",
   "execution_count": 149,
   "id": "ddf0e746-a70f-4216-8faa-17f3a09a26bd",
   "metadata": {},
   "outputs": [],
   "source": [
    "read2 = read.readline()"
   ]
  },
  {
   "cell_type": "code",
   "execution_count": 150,
   "id": "e38a1d4f-6bb3-4c82-8a58-3cc1bed1482c",
   "metadata": {},
   "outputs": [
    {
     "data": {
      "text/plain": [
       "'There are many variations of passages of Lorem Ipsum available, but the majority have suffered alteration in some form, by injected humour, or randomised words which dont look even slightly believable. If you are going to use a passage of Lorem Ipsum, you need to be sure there anything embarrassing hidden in the middle of text. All the Lorem Ipsum generators on the Internet tend to repeat predefined chunks as necessary, making this the first true generator on the Internet. It uses a dictionary of over 200 Latin words, combined with a handful of model sentence structures, to generate Lorem Ipsum which looks reasonable. The generated Lorem Ipsum is therefore always free from repetition, injected humour, or non-characteristic words etc.'"
      ]
     },
     "execution_count": 150,
     "metadata": {},
     "output_type": "execute_result"
    }
   ],
   "source": [
    "read2"
   ]
  },
  {
   "cell_type": "code",
   "execution_count": 151,
   "id": "ed591fd8-0abe-4729-9fb7-cd32e25ad94c",
   "metadata": {},
   "outputs": [
    {
     "data": {
      "text/plain": [
       "0"
      ]
     },
     "execution_count": 151,
     "metadata": {},
     "output_type": "execute_result"
    }
   ],
   "source": [
    "read.seek(0)"
   ]
  },
  {
   "cell_type": "code",
   "execution_count": 152,
   "id": "c93551be-1c1a-48cb-ad3d-aa7dcd1ee30e",
   "metadata": {},
   "outputs": [],
   "source": [
    "read3 = read.readlines()"
   ]
  },
  {
   "cell_type": "code",
   "execution_count": 153,
   "id": "6d54df2f-7999-4cd1-83b6-e46c483d4510",
   "metadata": {},
   "outputs": [
    {
     "data": {
      "text/plain": [
       "['There are many variations of passages of Lorem Ipsum available, but the majority have suffered alteration in some form, by injected humour, or randomised words which dont look even slightly believable. If you are going to use a passage of Lorem Ipsum, you need to be sure there anything embarrassing hidden in the middle of text. All the Lorem Ipsum generators on the Internet tend to repeat predefined chunks as necessary, making this the first true generator on the Internet. It uses a dictionary of over 200 Latin words, combined with a handful of model sentence structures, to generate Lorem Ipsum which looks reasonable. The generated Lorem Ipsum is therefore always free from repetition, injected humour, or non-characteristic words etc.']"
      ]
     },
     "execution_count": 153,
     "metadata": {},
     "output_type": "execute_result"
    }
   ],
   "source": [
    "read3"
   ]
  },
  {
   "cell_type": "markdown",
   "id": "f26b1f9e-7dfc-4132-a41a-d3915adfdda2",
   "metadata": {},
   "source": [
    "Q5. Explain why with statement is used with open(). What is the advantage of using with statement and\n",
    "open() together?"
   ]
  },
  {
   "cell_type": "markdown",
   "id": "b9c632b2-7bb6-4979-8ccc-10fc32c95f54",
   "metadata": {},
   "source": [
    "Ans : The 'with' statement is used with the open() function in Python to ensure that the file being opened is closed properly after its use. It helps to handle exceptions and provides a clean and efficient way to handle file I/O operations in Python.\n",
    "\n",
    "The advantage of using the with statement and open() together is that it helps to avoid issues related to file handling, such as leaving files open for too long, which can cause problems like data corruption and file locking. It also saves you the trouble of manually closing the file when you are done with it, which can be especially helpful when working with larger codebases."
   ]
  },
  {
   "cell_type": "markdown",
   "id": "e5c91c69-bf80-4f7f-840b-ea93820e0e27",
   "metadata": {},
   "source": [
    "Q6. Explain the write() and writelines() functions. Give a suitable example."
   ]
  },
  {
   "cell_type": "markdown",
   "id": "be8034ca-48c3-446a-a4c3-8690cf68dd09",
   "metadata": {},
   "source": [
    "Ans : In Python, the write() and writelines() are two methods provided by the file object that allow you to write data to a file.\n",
    "\n",
    "The write() method is used to write a single string to the file. It takes a single argument, which is the string you want to write to the file.\n",
    "\n",
    "Here's an example that shows how to use the write() method:\n",
    "\n",
    "\n",
    "with open('example.txt', 'w') as f:\n",
    "    f.write('Hello, world!\\n')\n",
    "    f.write('This is an example file.\\n')\n",
    "In the above example, we are opening the example.txt file in write mode using the open() function. We then use the write() method to write two lines of text to the file. Note that we have included the newline character \\n at the end of each line to ensure that each line is written on a separate line.\n",
    "\n",
    "The writelines() method, on the other hand, is used to write a list of strings to a file. It takes a single argument, which is a list of strings you want to write to the file.\n",
    "\n",
    "Here's an example that shows how to use the writelines() method:\n",
    "\n",
    "\n",
    "with open('example.txt', 'w') as f:\n",
    "    lines = ['Hello, world!\\n', 'This is an example file.\\n']\n",
    "    f.writelines(lines)\n",
    "In the above example, we are opening the example.txt file in write mode using the open() function. We then define a list of strings and pass it to the writelines() method to write the list of strings to the file.\n",
    "\n",
    "Both write() and writelines() methods are commonly used for writing data to files in Python. It is important to note that if you are writing to a file that already contains data, the new data will overwrite the existing data. So, make sure to use the appropriate mode when opening the file."
   ]
  },
  {
   "cell_type": "code",
   "execution_count": null,
   "id": "03d73b7b-aaf0-4898-a8bc-c7433a73b675",
   "metadata": {},
   "outputs": [],
   "source": []
  }
 ],
 "metadata": {
  "kernelspec": {
   "display_name": "Python 3 (ipykernel)",
   "language": "python",
   "name": "python3"
  },
  "language_info": {
   "codemirror_mode": {
    "name": "ipython",
    "version": 3
   },
   "file_extension": ".py",
   "mimetype": "text/x-python",
   "name": "python",
   "nbconvert_exporter": "python",
   "pygments_lexer": "ipython3",
   "version": "3.10.8"
  }
 },
 "nbformat": 4,
 "nbformat_minor": 5
}
