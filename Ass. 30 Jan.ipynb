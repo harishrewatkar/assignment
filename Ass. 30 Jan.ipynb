{
 "cells": [
  {
   "cell_type": "markdown",
   "id": "fdaee026-4dff-4ca5-9ba3-9e0a28f629df",
   "metadata": {},
   "source": [
    "1. Write a program to accept percentage from the user and display the grade according to the following criteria?"
   ]
  },
  {
   "cell_type": "code",
   "execution_count": 6,
   "id": "f0bdd0f2-7cd0-4eee-8a9f-9d6872f5a956",
   "metadata": {},
   "outputs": [
    {
     "name": "stdin",
     "output_type": "stream",
     "text": [
      "Write your percentage here:  99\n"
     ]
    },
    {
     "name": "stdout",
     "output_type": "stream",
     "text": [
      "You got A Grade in exam.\n"
     ]
    }
   ],
   "source": [
    "marks = int(input('Write your percentage here: '))\n",
    "if marks > 90 :\n",
    "    print('You got A Grade in exam.')\n",
    "elif marks > 80 and marks<= 90 :\n",
    "    print('You got B Grade in exam.')\n",
    "elif marks >= 60 and marks<= 80 :\n",
    "    print('You got C Grade in exam.')\n",
    "else :\n",
    "    print('You got D Grade in exam.')"
   ]
  },
  {
   "cell_type": "markdown",
   "id": "10509c89-2655-487a-8ef4-6da96278a26e",
   "metadata": {},
   "source": [
    "2. Write a program to accept the cost price of a bike display road tax to be paid according to the following criteria ?"
   ]
  },
  {
   "cell_type": "code",
   "execution_count": 8,
   "id": "86a24a8e-34d0-45c3-9fac-01f570f48a08",
   "metadata": {},
   "outputs": [
    {
     "name": "stdin",
     "output_type": "stream",
     "text": [
      "Write your bike cost price here in rupees:  400000\n"
     ]
    },
    {
     "name": "stdout",
     "output_type": "stream",
     "text": [
      "You need to pay 15% road tax.\n"
     ]
    }
   ],
   "source": [
    "road_tax = int(input('Write your bike cost price here in rupees: '))\n",
    "if road_tax > 100000 :\n",
    "    print ('You need to pay 15% road tax.')\n",
    "elif road_tax > 50000 and road_tax <= 100000 :\n",
    "    print ('You need to pay 10% road tax.')\n",
    "else :\n",
    "    print('You need to pay 5% road tax.')\n",
    "    "
   ]
  },
  {
   "cell_type": "markdown",
   "id": "67903e8e-e5ae-4719-94ff-57962ddba3f0",
   "metadata": {},
   "source": [
    "3. Accept any city from the user and display monuments of that city."
   ]
  },
  {
   "cell_type": "code",
   "execution_count": 23,
   "id": "7ca2c835-f022-417c-aef7-fc1b82c431cb",
   "metadata": {},
   "outputs": [
    {
     "name": "stdin",
     "output_type": "stream",
     "text": [
      "Enter the city name here with first capital alphabet:  Jaipur\n"
     ]
    },
    {
     "name": "stdout",
     "output_type": "stream",
     "text": [
      "Jal Mahal\n"
     ]
    }
   ],
   "source": [
    "city = (input('Enter the city name here with first capital alphabet: '))\n",
    "if city == 'Delhi' :\n",
    "    print ('Red Fort')\n",
    "elif city == 'Agra' :\n",
    "    print ('Taj Mahal')\n",
    "elif city == 'Jaipur':\n",
    "    print ('Jal Mahal')"
   ]
  },
  {
   "cell_type": "markdown",
   "id": "02aee270-7022-4b2b-a421-2aca5dcc6d9f",
   "metadata": {},
   "source": [
    "4. Check how many times a given number can be divided by 3 before it is less than or equal to 10."
   ]
  },
  {
   "cell_type": "code",
   "execution_count": 8,
   "id": "4d4824b2-bd31-49ba-b9ad-6b4e371efbc9",
   "metadata": {},
   "outputs": [
    {
     "name": "stdin",
     "output_type": "stream",
     "text": [
      "Enter a number:  5\n"
     ]
    },
    {
     "name": "stdout",
     "output_type": "stream",
     "text": [
      "0\n"
     ]
    }
   ],
   "source": [
    "num = int(input(\"Enter a number: \"))\n",
    "count = 0\n",
    "\n",
    "while num > 10:\n",
    "    num = num / 3\n",
    "    count += 1\n",
    "print(count)"
   ]
  },
  {
   "cell_type": "markdown",
   "id": "f42dd1ba-08cb-4970-ad8e-b73b7772719f",
   "metadata": {},
   "source": [
    "5. Why and when to use while loop in python give a detailed description with example."
   ]
  },
  {
   "cell_type": "markdown",
   "id": "34cba67b-72a9-46e1-88cc-e3ae5d128db5",
   "metadata": {},
   "source": [
    "The While loop is that type of loop which will work till given condition is not false. If we don't have a tidy data structure to iterate through, or we don't have a generator function that drives your processing, we must use while. while is useful in scenarios where the break condition doesn't logically depend on any kind of sequence. \n",
    "For example, consider unpredictable interactions:\n",
    "while user_is_sleeping():\n",
    "    wait()"
   ]
  },
  {
   "cell_type": "markdown",
   "id": "a29ffd10-c147-4a8c-9225-58d5040cbd5d",
   "metadata": {},
   "source": [
    "6. Use nested while loop to print 3 different pattern."
   ]
  },
  {
   "cell_type": "code",
   "execution_count": 3,
   "id": "04181197-f663-497f-bc97-c99c6f0c45f6",
   "metadata": {},
   "outputs": [
    {
     "name": "stdout",
     "output_type": "stream",
     "text": [
      "*\n",
      "**\n",
      "***\n",
      "****\n",
      "*****\n"
     ]
    }
   ],
   "source": [
    "i = 1\n",
    "while i <= 5:\n",
    "    j = 1\n",
    "    while j <= i:\n",
    "        print(\"*\", end=\"\")\n",
    "        j += 1\n",
    "    print()\n",
    "    i += 1"
   ]
  },
  {
   "cell_type": "code",
   "execution_count": 4,
   "id": "97915f3e-eef4-4d30-bcc6-4838b1d65a7a",
   "metadata": {},
   "outputs": [
    {
     "name": "stdout",
     "output_type": "stream",
     "text": [
      "    *\n",
      "   **\n",
      "  ***\n",
      " ****\n",
      "*****\n"
     ]
    }
   ],
   "source": [
    "i = 1\n",
    "while i <= 5:\n",
    "    j = 1\n",
    "    while j <= 5 - i:\n",
    "        print(\" \", end=\"\")\n",
    "        j += 1\n",
    "    k = 1\n",
    "    while k <= i:\n",
    "        print(\"*\", end=\"\")\n",
    "        k += 1\n",
    "    print()\n",
    "    i += 1"
   ]
  },
  {
   "cell_type": "code",
   "execution_count": 5,
   "id": "13634c52-0659-40c2-85c2-91659e32a43f",
   "metadata": {},
   "outputs": [
    {
     "name": "stdout",
     "output_type": "stream",
     "text": [
      "*****\n",
      " ****\n",
      "  ***\n",
      "   **\n",
      "    *\n"
     ]
    }
   ],
   "source": [
    "i = 1\n",
    "while i <= 5:\n",
    "    j = 1\n",
    "    while j < i:\n",
    "        print(\" \", end=\"\")\n",
    "        j += 1\n",
    "    k = 1\n",
    "    while k <= 6 - i:\n",
    "        print(\"*\", end=\"\")\n",
    "        k += 1\n",
    "    print()\n",
    "    i += 1"
   ]
  },
  {
   "cell_type": "markdown",
   "id": "1f32be24-682f-4b3f-8ecf-c32531bfe578",
   "metadata": {},
   "source": [
    "7. Reverse a while loop to display numbers fro 10 to 1."
   ]
  },
  {
   "cell_type": "code",
   "execution_count": 6,
   "id": "5deed32e-a2af-43f5-9fdf-e0f90171af0b",
   "metadata": {},
   "outputs": [
    {
     "name": "stdout",
     "output_type": "stream",
     "text": [
      "10\n",
      "9\n",
      "8\n",
      "7\n",
      "6\n",
      "5\n",
      "4\n",
      "3\n",
      "2\n",
      "1\n"
     ]
    }
   ],
   "source": [
    "i = 10\n",
    "while i>=1:\n",
    "    print(i)\n",
    "    i = i - 1 "
   ]
  },
  {
   "cell_type": "markdown",
   "id": "e0095140-f44b-4946-8b3e-1e15bd47ad91",
   "metadata": {},
   "source": [
    "8. Reverse a while loop to display numbers fro 10 to 1."
   ]
  },
  {
   "cell_type": "code",
   "execution_count": 7,
   "id": "bcd79680-ad95-4620-a811-561a11ab8616",
   "metadata": {},
   "outputs": [
    {
     "name": "stdout",
     "output_type": "stream",
     "text": [
      "10\n",
      "9\n",
      "8\n",
      "7\n",
      "6\n",
      "5\n",
      "4\n",
      "3\n",
      "2\n",
      "1\n"
     ]
    }
   ],
   "source": [
    "i = 10\n",
    "while i>=1:\n",
    "    print(i)\n",
    "    i = i - 1 "
   ]
  },
  {
   "cell_type": "code",
   "execution_count": null,
   "id": "612f5c32-c633-45ee-bf02-705fa2c87f0d",
   "metadata": {},
   "outputs": [],
   "source": []
  }
 ],
 "metadata": {
  "kernelspec": {
   "display_name": "Python 3 (ipykernel)",
   "language": "python",
   "name": "python3"
  },
  "language_info": {
   "codemirror_mode": {
    "name": "ipython",
    "version": 3
   },
   "file_extension": ".py",
   "mimetype": "text/x-python",
   "name": "python",
   "nbconvert_exporter": "python",
   "pygments_lexer": "ipython3",
   "version": "3.10.8"
  }
 },
 "nbformat": 4,
 "nbformat_minor": 5
}
