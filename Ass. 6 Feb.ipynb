{
 "cells": [
  {
   "cell_type": "markdown",
   "id": "a04dc236-50aa-415c-be80-7e9425e05611",
   "metadata": {},
   "source": [
    "Q1. Create a function which will take a list as an argument and return the product of all the numbers\n",
    "after creating a flat list.\n",
    "Use the below-given list as an argument for your function.\n",
    "\n",
    "\n",
    "list1 = [1,2,3,4, [44,55,66, True], False, (34,56,78,89,34), {1,2,3,3,2,1}, {1:34, \"key2\": [55, 67, 78, 89], 4: (45,\n",
    "22, 61, 34)}, [56, 'data science'], 'Machine Learning']\n",
    "Note: you must extract numeric keys and values of the dictionary also."
   ]
  },
  {
   "cell_type": "code",
   "execution_count": 1,
   "id": "fca27745-4cac-4540-a509-777931480742",
   "metadata": {},
   "outputs": [],
   "source": [
    "list1 = [1,2,3,4, [44,55,66, True], False, (34,56,78,89,34), {1,2,3,3,2,1}, {1:34, \"key2\": [55, 67, 78, 89], 4: (45,\n",
    "22, 61, 34)}, [56, 'data science'], 'Machine Learning']"
   ]
  },
  {
   "cell_type": "code",
   "execution_count": 2,
   "id": "2f34be51-b0d8-4d75-9f64-e36fc98ebd8c",
   "metadata": {},
   "outputs": [],
   "source": [
    "from functools import reduce"
   ]
  },
  {
   "cell_type": "code",
   "execution_count": 3,
   "id": "f3e94df2-462e-4b2b-8541-9a2d3fac9be3",
   "metadata": {},
   "outputs": [],
   "source": [
    "flat_list = []\n",
    "def new(x):\n",
    "    for i in x :\n",
    "        if type(i) == int :\n",
    "            flat_list.append(i)\n",
    "        elif type(i) == list :\n",
    "            for j in i:\n",
    "                if type(j) == int :\n",
    "                    flat_list.append(j)\n",
    "        elif type(i) == tuple:\n",
    "            for k in i :\n",
    "                if type(k) == int :\n",
    "                    flat_list.append(k)\n",
    "        elif type(i) == dict :\n",
    "            for key,value in i.items() :\n",
    "                if type(key) == int :\n",
    "                    flat_list.append(key)\n",
    "                if type(value) == int :\n",
    "                    flat_list.append(value) \n",
    "                elif type(value) == int :\n",
    "                    flat_list.append(value)\n",
    "                elif type(value) == list :\n",
    "                    for l in value :\n",
    "                        if type(l) == int :\n",
    "                            flat_list.append(l)\n",
    "                elif type(value) == tuple :\n",
    "                    for n in value :\n",
    "                        if type(n) == int :\n",
    "                            flat_list.append(n)\n",
    "        elif type(i) == set :\n",
    "            for m in i :\n",
    "                if type(m) == int :\n",
    "                    flat_list.append(m)"
   ]
  },
  {
   "cell_type": "code",
   "execution_count": 4,
   "id": "53b9e099-01e8-4fa1-bd10-af6925cfbd91",
   "metadata": {},
   "outputs": [],
   "source": [
    "new(list1)"
   ]
  },
  {
   "cell_type": "code",
   "execution_count": 5,
   "id": "4a042737-6f6c-47bd-9988-007de1525a66",
   "metadata": {},
   "outputs": [
    {
     "data": {
      "text/plain": [
       "[1,\n",
       " 2,\n",
       " 3,\n",
       " 4,\n",
       " 44,\n",
       " 55,\n",
       " 66,\n",
       " 34,\n",
       " 56,\n",
       " 78,\n",
       " 89,\n",
       " 34,\n",
       " 1,\n",
       " 2,\n",
       " 3,\n",
       " 1,\n",
       " 34,\n",
       " 55,\n",
       " 67,\n",
       " 78,\n",
       " 89,\n",
       " 4,\n",
       " 45,\n",
       " 22,\n",
       " 61,\n",
       " 34,\n",
       " 56]"
      ]
     },
     "execution_count": 5,
     "metadata": {},
     "output_type": "execute_result"
    }
   ],
   "source": [
    "flat_list"
   ]
  },
  {
   "cell_type": "code",
   "execution_count": 6,
   "id": "c0ff54cd-b8b0-4753-b7c0-59f14cba2bdd",
   "metadata": {},
   "outputs": [
    {
     "data": {
      "text/plain": [
       "27"
      ]
     },
     "execution_count": 6,
     "metadata": {},
     "output_type": "execute_result"
    }
   ],
   "source": [
    "len(flat_list)"
   ]
  },
  {
   "cell_type": "code",
   "execution_count": 7,
   "id": "2d9d318a-e250-4818-84bb-feae7edca00e",
   "metadata": {},
   "outputs": [
    {
     "name": "stdout",
     "output_type": "stream",
     "text": [
      "4134711838987085478833841242112000\n"
     ]
    }
   ],
   "source": [
    "product = reduce(lambda x, y: x * y, flat_list)\n",
    "print(product) "
   ]
  },
  {
   "cell_type": "markdown",
   "id": "3d9edf5d-d16b-46d3-b600-e99532521497",
   "metadata": {},
   "source": [
    "Q2. Write a python program for encrypting a message sent to you by your friend. The logic of encryption\n",
    "should be such that, for a the output should be z. For b, the output should be y. For c, the output should\n",
    "be x respectively. Also, the whitespace should be replaced with a dollar sign. Keep the punctuation\n",
    "marks unchanged.\n",
    "\n",
    "Input Sentence: I want to become a Data Scientist.\n",
    "\n",
    "\n",
    "Encrypt the above input sentence using the program you just created.\n",
    "\n",
    "\n",
    "Note: Convert the given input sentence into lowercase before encrypting. The final output should be\n",
    "lowercase."
   ]
  },
  {
   "cell_type": "code",
   "execution_count": 49,
   "id": "be2df665-6c56-42d8-8e1b-66d5941234af",
   "metadata": {},
   "outputs": [],
   "source": [
    "a = 'I want to become a Data Scientist.'"
   ]
  },
  {
   "cell_type": "code",
   "execution_count": 50,
   "id": "1d1265db-b376-4c18-a42e-60c297a02354",
   "metadata": {},
   "outputs": [],
   "source": [
    "dict = {'a' : 'z', 'b' : 'y', 'c' : 'x', 'd' : 'w', 'e' : 'v', 'f' : 'u', 'g':'t', 'h':'s', 'i' : 'r', 'j' : 'q', 'k' : 'p', 'l' : 'o', 'm' : 'n', 'n' : 'm', 'o' : 'l', 'p' : 'k', 'q' : 'j', 'r' : 'i', 's' : 'h', 't' : 'g', 'u' : 'f', 'v' : 'e', 'w' : 'd', 'x' : 'c', 'y' : 'b', 'z' : 'a'}"
   ]
  },
  {
   "cell_type": "code",
   "execution_count": 51,
   "id": "171e4d7e-9671-42a7-b621-b1e23df55846",
   "metadata": {},
   "outputs": [
    {
     "data": {
      "text/plain": [
       "{'a': 'z',\n",
       " 'b': 'y',\n",
       " 'c': 'x',\n",
       " 'd': 'w',\n",
       " 'e': 'v',\n",
       " 'f': 'u',\n",
       " 'g': 't',\n",
       " 'h': 's',\n",
       " 'i': 'r',\n",
       " 'j': 'q',\n",
       " 'k': 'p',\n",
       " 'l': 'o',\n",
       " 'm': 'n',\n",
       " 'n': 'm',\n",
       " 'o': 'l',\n",
       " 'p': 'k',\n",
       " 'q': 'j',\n",
       " 'r': 'i',\n",
       " 's': 'h',\n",
       " 't': 'g',\n",
       " 'u': 'f',\n",
       " 'v': 'e',\n",
       " 'w': 'd',\n",
       " 'x': 'c',\n",
       " 'y': 'b',\n",
       " 'z': 'a'}"
      ]
     },
     "execution_count": 51,
     "metadata": {},
     "output_type": "execute_result"
    }
   ],
   "source": [
    "dict"
   ]
  },
  {
   "cell_type": "code",
   "execution_count": 52,
   "id": "0bcd4c5f-89a6-44fd-a1b4-d88296440658",
   "metadata": {},
   "outputs": [],
   "source": [
    "a = a.lower()"
   ]
  },
  {
   "cell_type": "code",
   "execution_count": 53,
   "id": "319f6dbc-f558-4c4b-97f2-8f673416ce26",
   "metadata": {},
   "outputs": [
    {
     "data": {
      "text/plain": [
       "'i want to become a data scientist.'"
      ]
     },
     "execution_count": 53,
     "metadata": {},
     "output_type": "execute_result"
    }
   ],
   "source": [
    "a"
   ]
  },
  {
   "cell_type": "code",
   "execution_count": 54,
   "id": "3051a03d-78ba-4f61-bc20-8ca5fef77584",
   "metadata": {},
   "outputs": [],
   "source": [
    "encrypt_list = []"
   ]
  },
  {
   "cell_type": "code",
   "execution_count": 55,
   "id": "738eacab-df78-46b6-bc6c-58995d365d98",
   "metadata": {},
   "outputs": [
    {
     "name": "stdout",
     "output_type": "stream",
     "text": [
      "r$dzmg$gl$yvxlnv$z$wzgz$hxrvmgrhg\n"
     ]
    }
   ],
   "source": [
    "for i in a :\n",
    "    if i == ' ':\n",
    "        encrypt_list.append('$')\n",
    "    elif i in dict :\n",
    "        encrypt_list.append(dict[i])\n",
    "encrypt_message= \"\".join(encrypt_list)\n",
    "print(encrypt_message)"
   ]
  },
  {
   "cell_type": "code",
   "execution_count": null,
   "id": "024b9715-2d66-4dce-8946-8eb4debad0a1",
   "metadata": {},
   "outputs": [],
   "source": []
  }
 ],
 "metadata": {
  "kernelspec": {
   "display_name": "Python 3 (ipykernel)",
   "language": "python",
   "name": "python3"
  },
  "language_info": {
   "codemirror_mode": {
    "name": "ipython",
    "version": 3
   },
   "file_extension": ".py",
   "mimetype": "text/x-python",
   "name": "python",
   "nbconvert_exporter": "python",
   "pygments_lexer": "ipython3",
   "version": "3.10.8"
  }
 },
 "nbformat": 4,
 "nbformat_minor": 5
}
