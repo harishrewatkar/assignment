{
 "cells": [
  {
   "cell_type": "markdown",
   "id": "3f4c31d3-2511-456d-bad0-5260c5061b38",
   "metadata": {},
   "source": [
    "Q1. Create a Pandas Series that contains the following data: 4, 8, 15, 16, 23, and 42. Then, print the series."
   ]
  },
  {
   "cell_type": "code",
   "execution_count": 3,
   "id": "98393254-b2ab-4aa9-80d6-a70fb9c7d115",
   "metadata": {},
   "outputs": [],
   "source": [
    "import pandas as pd\n",
    "a = [[4,8,15,16,23,42]]"
   ]
  },
  {
   "cell_type": "code",
   "execution_count": 7,
   "id": "45ce9b0e-301a-4a73-8b33-2f2b3f30a2aa",
   "metadata": {},
   "outputs": [],
   "source": [
    "df = pd.Series(a)"
   ]
  },
  {
   "cell_type": "code",
   "execution_count": 9,
   "id": "bd8a8f61-566b-416d-b540-ff2e4fb86516",
   "metadata": {},
   "outputs": [
    {
     "data": {
      "text/plain": [
       "0    [4, 8, 15, 16, 23, 42]\n",
       "dtype: object"
      ]
     },
     "execution_count": 9,
     "metadata": {},
     "output_type": "execute_result"
    }
   ],
   "source": [
    "df"
   ]
  },
  {
   "cell_type": "code",
   "execution_count": 10,
   "id": "74610e49-0205-4058-997f-f4c596315f5d",
   "metadata": {},
   "outputs": [
    {
     "data": {
      "text/plain": [
       "pandas.core.series.Series"
      ]
     },
     "execution_count": 10,
     "metadata": {},
     "output_type": "execute_result"
    }
   ],
   "source": [
    "type(df)"
   ]
  },
  {
   "cell_type": "markdown",
   "id": "a1d8d84c-1b56-4846-bc83-8f93f1c1d97a",
   "metadata": {},
   "source": [
    "Q2. Create a variable of list type containing 10 elements in it, and apply pandas.Series function on the\n",
    "variable print it."
   ]
  },
  {
   "cell_type": "code",
   "execution_count": 1,
   "id": "67aba786-c102-4a38-a161-51415638de3a",
   "metadata": {},
   "outputs": [],
   "source": [
    "l = [1,2,25,54,45,451,641,641,15,15]"
   ]
  },
  {
   "cell_type": "code",
   "execution_count": 5,
   "id": "9351fabd-2d72-49ed-b2b5-1ff836cf4d0e",
   "metadata": {},
   "outputs": [],
   "source": [
    "df2 = pd.Series(l)"
   ]
  },
  {
   "cell_type": "code",
   "execution_count": 6,
   "id": "559cf36f-669a-4d05-b849-afb9c93c96ee",
   "metadata": {},
   "outputs": [
    {
     "data": {
      "text/plain": [
       "0      1\n",
       "1      2\n",
       "2     25\n",
       "3     54\n",
       "4     45\n",
       "5    451\n",
       "6    641\n",
       "7    641\n",
       "8     15\n",
       "9     15\n",
       "dtype: int64"
      ]
     },
     "execution_count": 6,
     "metadata": {},
     "output_type": "execute_result"
    }
   ],
   "source": [
    "df2"
   ]
  },
  {
   "cell_type": "markdown",
   "id": "57777aa3-6c3b-43f9-afb7-51d6a1b49260",
   "metadata": {},
   "source": [
    "Q3. Create a Pandas DataFrame that contains the following data:"
   ]
  },
  {
   "cell_type": "markdown",
   "id": "3b6de976-6111-40f1-aac4-9d43feffac27",
   "metadata": {},
   "source": [
    "Name\n",
    "Alice\n",
    "Bob\n",
    "Claire\n",
    "\n",
    "Age\n",
    "25\n",
    "30\n",
    "27\n",
    "\n",
    "Gender\n",
    "Female\n",
    "Male\n",
    "Female"
   ]
  },
  {
   "cell_type": "markdown",
   "id": "08594d7e-9535-45b6-8f1a-b50efa7eb4c0",
   "metadata": {},
   "source": [
    "Then, print the DataFrame."
   ]
  },
  {
   "cell_type": "code",
   "execution_count": 9,
   "id": "c7d9798c-55c7-4ef4-9b5a-d20ee22f1fb6",
   "metadata": {},
   "outputs": [],
   "source": [
    "d = {'Name':['Alice','Bob', 'Claire'], 'Age':[25, 30, 27], 'Gender':['Female','Male', 'Female']}"
   ]
  },
  {
   "cell_type": "code",
   "execution_count": 11,
   "id": "172b1b95-77e8-4b72-bd4d-1a423eabe561",
   "metadata": {},
   "outputs": [],
   "source": [
    "df3 = pd.DataFrame(d)"
   ]
  },
  {
   "cell_type": "code",
   "execution_count": 13,
   "id": "6cb5f926-d1bb-4491-8724-8ece3561d4bf",
   "metadata": {},
   "outputs": [
    {
     "data": {
      "text/html": [
       "<div>\n",
       "<style scoped>\n",
       "    .dataframe tbody tr th:only-of-type {\n",
       "        vertical-align: middle;\n",
       "    }\n",
       "\n",
       "    .dataframe tbody tr th {\n",
       "        vertical-align: top;\n",
       "    }\n",
       "\n",
       "    .dataframe thead th {\n",
       "        text-align: right;\n",
       "    }\n",
       "</style>\n",
       "<table border=\"1\" class=\"dataframe\">\n",
       "  <thead>\n",
       "    <tr style=\"text-align: right;\">\n",
       "      <th></th>\n",
       "      <th>Name</th>\n",
       "      <th>Age</th>\n",
       "      <th>Gender</th>\n",
       "    </tr>\n",
       "  </thead>\n",
       "  <tbody>\n",
       "    <tr>\n",
       "      <th>0</th>\n",
       "      <td>Alice</td>\n",
       "      <td>25</td>\n",
       "      <td>Female</td>\n",
       "    </tr>\n",
       "    <tr>\n",
       "      <th>1</th>\n",
       "      <td>Bob</td>\n",
       "      <td>30</td>\n",
       "      <td>Male</td>\n",
       "    </tr>\n",
       "    <tr>\n",
       "      <th>2</th>\n",
       "      <td>Claire</td>\n",
       "      <td>27</td>\n",
       "      <td>Female</td>\n",
       "    </tr>\n",
       "  </tbody>\n",
       "</table>\n",
       "</div>"
      ],
      "text/plain": [
       "     Name  Age  Gender\n",
       "0   Alice   25  Female\n",
       "1     Bob   30    Male\n",
       "2  Claire   27  Female"
      ]
     },
     "execution_count": 13,
     "metadata": {},
     "output_type": "execute_result"
    }
   ],
   "source": [
    "df3"
   ]
  },
  {
   "cell_type": "code",
   "execution_count": 14,
   "id": "c9f9f33b-297a-4ec8-926b-5b35799f0eae",
   "metadata": {},
   "outputs": [
    {
     "data": {
      "text/plain": [
       "pandas.core.frame.DataFrame"
      ]
     },
     "execution_count": 14,
     "metadata": {},
     "output_type": "execute_result"
    }
   ],
   "source": [
    "type(df3)"
   ]
  },
  {
   "cell_type": "markdown",
   "id": "b34a2d36-4e6c-4b94-8e75-20b13a5eee7c",
   "metadata": {},
   "source": [
    "Q4. What is ‘DataFrame’ in pandas and how is it different from pandas.series? Explain with an example."
   ]
  },
  {
   "cell_type": "markdown",
   "id": "d6ef1ff9-ab9f-4f5d-946d-ec975a90ef96",
   "metadata": {},
   "source": [
    "Ans : Pandas is a library present in the python. In Pandas we have DataFrame & Series. DataFrame is a two dimensional contains rows & columns like excel sheet. & Series is an one dimensional & each column in DataFrame can be throught a pandas series."
   ]
  },
  {
   "cell_type": "code",
   "execution_count": 12,
   "id": "d027d65d-b088-4fe6-a3c8-81fb1af976d5",
   "metadata": {},
   "outputs": [],
   "source": [
    "s1 = [1,3,5,7,9,11]"
   ]
  },
  {
   "cell_type": "code",
   "execution_count": 13,
   "id": "621ed9dd-f609-4be0-8d89-bdc0800aae6e",
   "metadata": {},
   "outputs": [],
   "source": [
    "series = pd.Series(s1)"
   ]
  },
  {
   "cell_type": "code",
   "execution_count": 14,
   "id": "52584a09-fe13-4e13-922e-6a807a212b42",
   "metadata": {},
   "outputs": [
    {
     "data": {
      "text/plain": [
       "0     1\n",
       "1     3\n",
       "2     5\n",
       "3     7\n",
       "4     9\n",
       "5    11\n",
       "dtype: int64"
      ]
     },
     "execution_count": 14,
     "metadata": {},
     "output_type": "execute_result"
    }
   ],
   "source": [
    "series"
   ]
  },
  {
   "cell_type": "code",
   "execution_count": 15,
   "id": "787700ad-8c7f-474c-9dd0-a9570e804a69",
   "metadata": {},
   "outputs": [],
   "source": [
    "df = {'name':['harish','karan','sanjay'],'age':[25,19,55],'education':['MA','BCA 2nd year', 10]}"
   ]
  },
  {
   "cell_type": "code",
   "execution_count": 27,
   "id": "5928b48b-d273-414e-83d8-356cb1021777",
   "metadata": {},
   "outputs": [],
   "source": [
    "df2 = pd.DataFrame(df)"
   ]
  },
  {
   "cell_type": "code",
   "execution_count": 28,
   "id": "e072a09f-5165-4a76-8275-ca6373ef5b44",
   "metadata": {},
   "outputs": [
    {
     "data": {
      "text/html": [
       "<div>\n",
       "<style scoped>\n",
       "    .dataframe tbody tr th:only-of-type {\n",
       "        vertical-align: middle;\n",
       "    }\n",
       "\n",
       "    .dataframe tbody tr th {\n",
       "        vertical-align: top;\n",
       "    }\n",
       "\n",
       "    .dataframe thead th {\n",
       "        text-align: right;\n",
       "    }\n",
       "</style>\n",
       "<table border=\"1\" class=\"dataframe\">\n",
       "  <thead>\n",
       "    <tr style=\"text-align: right;\">\n",
       "      <th></th>\n",
       "      <th>name</th>\n",
       "      <th>age</th>\n",
       "      <th>education</th>\n",
       "    </tr>\n",
       "  </thead>\n",
       "  <tbody>\n",
       "    <tr>\n",
       "      <th>0</th>\n",
       "      <td>harish</td>\n",
       "      <td>25</td>\n",
       "      <td>MA</td>\n",
       "    </tr>\n",
       "    <tr>\n",
       "      <th>1</th>\n",
       "      <td>karan</td>\n",
       "      <td>19</td>\n",
       "      <td>BCA 2nd year</td>\n",
       "    </tr>\n",
       "    <tr>\n",
       "      <th>2</th>\n",
       "      <td>sanjay</td>\n",
       "      <td>55</td>\n",
       "      <td>10</td>\n",
       "    </tr>\n",
       "  </tbody>\n",
       "</table>\n",
       "</div>"
      ],
      "text/plain": [
       "     name  age     education\n",
       "0  harish   25            MA\n",
       "1   karan   19  BCA 2nd year\n",
       "2  sanjay   55            10"
      ]
     },
     "execution_count": 28,
     "metadata": {},
     "output_type": "execute_result"
    }
   ],
   "source": [
    "df2"
   ]
  },
  {
   "cell_type": "markdown",
   "id": "178d7358-4707-4580-97ca-2dd7081061fb",
   "metadata": {},
   "source": [
    "Q5. What are some common functions you can use to manipulate data in a Pandas DataFrame? Can\n",
    "you give an example of when you might use one of these functions?"
   ]
  },
  {
   "cell_type": "markdown",
   "id": "3f2149d2-b170-4045-badb-e3bb96e502c3",
   "metadata": {},
   "source": [
    "Ans : 1. 'head' and 'tail' : These functions use to display to top & bottom records in dataframe respectively For example, you might use the head() function to quickly view the first few rows of a DataFrame to get a sense of its structure and content. \n",
    "2. 'iloc' and 'loc' : These functions use for the indexing and selection data from dataframe  For example, you might use loc[] to select all rows where the value in the \"name\" column is \"John\".. \n",
    "3. 'drop' : This function use for the drop row or column from the dataframe For example, you might use drop() to remove columns that contain missing data or irrelevant information.\n",
    "4. 'fillna' : This function use for the fill missing values in the dataframe  For example, you might use fillna() to replace all missing values in a column with the mean value of that column.\n",
    "\n",
    "These are some common functions I can use for manipulate the data."
   ]
  },
  {
   "cell_type": "markdown",
   "id": "c2fdad2d-2827-4d13-a81a-c6ce70a9430a",
   "metadata": {},
   "source": [
    "Q6. Which of the following is mutable in nature Series, DataFrame, Panel?"
   ]
  },
  {
   "cell_type": "markdown",
   "id": "ef547f4c-2060-40cf-9858-7095e654954b",
   "metadata": {},
   "source": [
    "Ans : Series and DataFrame both are mutable in nature."
   ]
  },
  {
   "cell_type": "markdown",
   "id": "28447836-fe8e-4b61-91b9-affe6fd76cbe",
   "metadata": {},
   "source": [
    "Q7. Create a DataFrame using multiple Series. Explain with an example."
   ]
  },
  {
   "cell_type": "code",
   "execution_count": 16,
   "id": "0cd7df62-20c6-42cf-b134-6aacbfad5870",
   "metadata": {},
   "outputs": [],
   "source": [
    "s1 = pd.Series(['harish', 'karan', 'rahul', 'sanjay'])"
   ]
  },
  {
   "cell_type": "code",
   "execution_count": 17,
   "id": "da9903f9-b75e-4bb4-a1bf-e2135e6d9aa7",
   "metadata": {},
   "outputs": [],
   "source": [
    "s2 = pd.Series([25,19,32,55])"
   ]
  },
  {
   "cell_type": "code",
   "execution_count": 18,
   "id": "84ae10fe-b729-409b-8054-2bc68e17be3c",
   "metadata": {},
   "outputs": [],
   "source": [
    "s3 = pd.Series(['MA','BCA','MA','X'])"
   ]
  },
  {
   "cell_type": "code",
   "execution_count": 19,
   "id": "bc964667-b3dd-4b7c-9795-939c38e91178",
   "metadata": {},
   "outputs": [],
   "source": [
    "dataframe = pd.DataFrame({'name':s1, 'age':s2, 'education':s3})"
   ]
  },
  {
   "cell_type": "code",
   "execution_count": 20,
   "id": "2fd5ce9b-c2f7-4a04-b847-e50d86c48304",
   "metadata": {},
   "outputs": [
    {
     "data": {
      "text/html": [
       "<div>\n",
       "<style scoped>\n",
       "    .dataframe tbody tr th:only-of-type {\n",
       "        vertical-align: middle;\n",
       "    }\n",
       "\n",
       "    .dataframe tbody tr th {\n",
       "        vertical-align: top;\n",
       "    }\n",
       "\n",
       "    .dataframe thead th {\n",
       "        text-align: right;\n",
       "    }\n",
       "</style>\n",
       "<table border=\"1\" class=\"dataframe\">\n",
       "  <thead>\n",
       "    <tr style=\"text-align: right;\">\n",
       "      <th></th>\n",
       "      <th>name</th>\n",
       "      <th>age</th>\n",
       "      <th>education</th>\n",
       "    </tr>\n",
       "  </thead>\n",
       "  <tbody>\n",
       "    <tr>\n",
       "      <th>0</th>\n",
       "      <td>harish</td>\n",
       "      <td>25</td>\n",
       "      <td>MA</td>\n",
       "    </tr>\n",
       "    <tr>\n",
       "      <th>1</th>\n",
       "      <td>karan</td>\n",
       "      <td>19</td>\n",
       "      <td>BCA</td>\n",
       "    </tr>\n",
       "    <tr>\n",
       "      <th>2</th>\n",
       "      <td>rahul</td>\n",
       "      <td>32</td>\n",
       "      <td>MA</td>\n",
       "    </tr>\n",
       "    <tr>\n",
       "      <th>3</th>\n",
       "      <td>sanjay</td>\n",
       "      <td>55</td>\n",
       "      <td>X</td>\n",
       "    </tr>\n",
       "  </tbody>\n",
       "</table>\n",
       "</div>"
      ],
      "text/plain": [
       "     name  age education\n",
       "0  harish   25        MA\n",
       "1   karan   19       BCA\n",
       "2   rahul   32        MA\n",
       "3  sanjay   55         X"
      ]
     },
     "execution_count": 20,
     "metadata": {},
     "output_type": "execute_result"
    }
   ],
   "source": [
    "dataframe"
   ]
  }
 ],
 "metadata": {
  "kernelspec": {
   "display_name": "Python 3 (ipykernel)",
   "language": "python",
   "name": "python3"
  },
  "language_info": {
   "codemirror_mode": {
    "name": "ipython",
    "version": 3
   },
   "file_extension": ".py",
   "mimetype": "text/x-python",
   "name": "python",
   "nbconvert_exporter": "python",
   "pygments_lexer": "ipython3",
   "version": "3.10.8"
  }
 },
 "nbformat": 4,
 "nbformat_minor": 5
}
