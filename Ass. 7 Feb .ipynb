{
 "cells": [
  {
   "cell_type": "markdown",
   "id": "fc0a6cb8-77ae-49f2-86de-ec95a534199d",
   "metadata": {},
   "source": [
    "Q1. You are writing code for a company. The requirement of the company is that you create a python\n",
    "function that will check whether the password entered by the user is correct or not. The function should\n",
    "take the password as input and return the string “Valid Password” if the entered password follows the\n",
    "below-given password guidelines else it should return “Invalid Password”.\n",
    "\n",
    "Note: 1. The Password should contain at least two uppercase letters and at least two lowercase letters.\n",
    "2. The Password should contain at least a number and three special characters.\n",
    "3. The length of the password should be 10 characters long."
   ]
  },
  {
   "cell_type": "code",
   "execution_count": 28,
   "id": "170f7744-06c8-460c-b746-5bb10928cd0f",
   "metadata": {},
   "outputs": [],
   "source": [
    "def check_password(password) :\n",
    "    if len(password) != 10 :\n",
    "        return 'Invalid Password'\n",
    "    upper_count = 0\n",
    "    lower_count = 0\n",
    "    number_count =0\n",
    "    special_count = 0\n",
    "    for i in password :\n",
    "        if i.isupper():\n",
    "            upper_count += 1\n",
    "        if i.islower():\n",
    "            lower_count += 1\n",
    "        if i.isdigit():\n",
    "            number_count += 1\n",
    "        else :\n",
    "            special_count += 1\n",
    "    if upper_count >= 2 and lower_count >= 2 and number_count >= 1 and special_count >= 3:\n",
    "        return 'Valid Password'\n",
    "    else :\n",
    "        return 'Invalid Password'"
   ]
  },
  {
   "cell_type": "code",
   "execution_count": 30,
   "id": "738bcd00-41c2-4c72-b86a-6247e99a2033",
   "metadata": {},
   "outputs": [
    {
     "data": {
      "text/plain": [
       "'Valid Password'"
      ]
     },
     "execution_count": 30,
     "metadata": {},
     "output_type": "execute_result"
    }
   ],
   "source": [
    "check_password('ABcd123@#$')"
   ]
  },
  {
   "cell_type": "markdown",
   "id": "c36a35e5-32db-43e4-a107-5abf6faab9ae",
   "metadata": {},
   "source": [
    "Q2. Solve the below-given questions using at least one of the following:\n",
    "1. Lambda function\n",
    "2. Filter function\n",
    "3. Zap function\n",
    "4. List Comprehension\n",
    "\n",
    "-  Check if the string starts with a particular letter\n",
    "- Check if the string is numeric\n",
    "-  Sort a list of tuples having fruit names and their quantity. [(\"mango\",99),(\"orange\",80), (\"grapes\", 1000)]\n",
    "- Find the squares of numbers from 1 to 10\n",
    "- Find the cube root of numbers from 1 to 10\n",
    "- Check if a given number is even\n",
    "- Filter odd numbers from the given list.\n",
    "[1,2,3,4,5,6,7,8,9,10]\n",
    "- Sort a list of integers into positive and negative integers lists.\n",
    "[1,2,3,4,5,6,-1,-2,-3,-4,-5,0]"
   ]
  },
  {
   "cell_type": "markdown",
   "id": "8555057c-727d-4214-9d0d-42bcabe4289f",
   "metadata": {},
   "source": [
    "1 Answer"
   ]
  },
  {
   "cell_type": "code",
   "execution_count": 55,
   "id": "a053e794-4778-4bc1-82db-9d6d938ece9d",
   "metadata": {},
   "outputs": [
    {
     "name": "stdout",
     "output_type": "stream",
     "text": [
      "string starting with Y\n"
     ]
    }
   ],
   "source": [
    "string = 'Y'\n",
    "check = lambda x : x.startswith (string)\n",
    "if check(string):\n",
    "    print ('string starting with Y')\n",
    "else :\n",
    "    print('string is not starting with Y')"
   ]
  },
  {
   "cell_type": "markdown",
   "id": "3493066a-1fcd-431c-82c3-250c4c99a364",
   "metadata": {},
   "source": [
    "2 Answer"
   ]
  },
  {
   "cell_type": "code",
   "execution_count": 12,
   "id": "aeef12f2-efd2-46e7-994d-28f18af8af4b",
   "metadata": {},
   "outputs": [
    {
     "name": "stdout",
     "output_type": "stream",
     "text": [
      "string is a numeric.\n"
     ]
    }
   ],
   "source": [
    "string = '1234'\n",
    "check = lambda x : x.isdigit()\n",
    "if check(string):\n",
    "    print ('string is a numeric.')\n",
    "else :\n",
    "    print('string is not a numeric.')"
   ]
  },
  {
   "cell_type": "markdown",
   "id": "9883f9a7-a8f1-40c8-8fb4-f11097090a92",
   "metadata": {},
   "source": [
    "3  Answer"
   ]
  },
  {
   "cell_type": "code",
   "execution_count": 13,
   "id": "0e27e695-73b7-433b-84fc-ae490f17c3ae",
   "metadata": {},
   "outputs": [
    {
     "data": {
      "text/plain": [
       "[('grapes', 1000), ('mango', 99), ('orange', 80)]"
      ]
     },
     "execution_count": 13,
     "metadata": {},
     "output_type": "execute_result"
    }
   ],
   "source": [
    "a = [(\"mango\",99),(\"orange\",80), (\"grapes\", 1000)]\n",
    "b = lambda x : sorted(x)\n",
    "b(a)"
   ]
  },
  {
   "cell_type": "markdown",
   "id": "ae71c63c-8f12-4768-8b17-aaa6063f46ef",
   "metadata": {},
   "source": [
    "4 Answer"
   ]
  },
  {
   "cell_type": "code",
   "execution_count": 15,
   "id": "cc08c03a-219d-4328-b70c-d2bb8d1b74fe",
   "metadata": {},
   "outputs": [],
   "source": [
    "l1 = list(range(1,11))"
   ]
  },
  {
   "cell_type": "code",
   "execution_count": 16,
   "id": "97bf249c-9d93-46b7-942f-5a9007f99e10",
   "metadata": {},
   "outputs": [
    {
     "data": {
      "text/plain": [
       "[1, 2, 3, 4, 5, 6, 7, 8, 9, 10]"
      ]
     },
     "execution_count": 16,
     "metadata": {},
     "output_type": "execute_result"
    }
   ],
   "source": [
    "l1"
   ]
  },
  {
   "cell_type": "code",
   "execution_count": 17,
   "id": "14d172d8-71be-4c90-9863-2a4624dd3015",
   "metadata": {},
   "outputs": [
    {
     "data": {
      "text/plain": [
       "[1, 4, 9, 16, 25, 36, 49, 64, 81, 100]"
      ]
     },
     "execution_count": 17,
     "metadata": {},
     "output_type": "execute_result"
    }
   ],
   "source": [
    "list(map(lambda x : x**2, l1))"
   ]
  },
  {
   "cell_type": "markdown",
   "id": "31ba6fdc-57e8-43a0-aa9e-d00c26123573",
   "metadata": {},
   "source": [
    "5 Answer"
   ]
  },
  {
   "cell_type": "code",
   "execution_count": 78,
   "id": "2bdf0655-bd86-4d2f-86af-de45fa41eff2",
   "metadata": {},
   "outputs": [
    {
     "data": {
      "text/plain": [
       "[1.0,\n",
       " 1.2599210498948732,\n",
       " 1.4422495703074083,\n",
       " 1.5874010519681994,\n",
       " 1.7099759466766968,\n",
       " 1.8171205928321397,\n",
       " 1.912931182772389,\n",
       " 2.0,\n",
       " 2.080083823051904,\n",
       " 2.154434690031884]"
      ]
     },
     "execution_count": 78,
     "metadata": {},
     "output_type": "execute_result"
    }
   ],
   "source": [
    "list(map(lambda x : x**(1/3), l1))"
   ]
  },
  {
   "cell_type": "markdown",
   "id": "5d0676c1-b35c-45e8-b7ed-f72bd51c3347",
   "metadata": {},
   "source": [
    "6 Answer"
   ]
  },
  {
   "cell_type": "code",
   "execution_count": 3,
   "id": "5b5e45e3-b896-490e-a527-82c0bfafa5e2",
   "metadata": {},
   "outputs": [],
   "source": [
    "even = lambda x : x%2 == 0"
   ]
  },
  {
   "cell_type": "code",
   "execution_count": 21,
   "id": "a68c8752-19e6-4853-9457-0c4a89c20ded",
   "metadata": {},
   "outputs": [
    {
     "data": {
      "text/plain": [
       "True"
      ]
     },
     "execution_count": 21,
     "metadata": {},
     "output_type": "execute_result"
    }
   ],
   "source": [
    "even(10)"
   ]
  },
  {
   "cell_type": "markdown",
   "id": "f84a61e7-9f87-47e8-b168-f89323dfe413",
   "metadata": {},
   "source": [
    "7 Answer"
   ]
  },
  {
   "cell_type": "code",
   "execution_count": 7,
   "id": "a6dab08a-8d7f-4c54-a253-0a65ff4f7de3",
   "metadata": {},
   "outputs": [],
   "source": [
    "k = [1,2,3,4,5,6,7,8,9,10]"
   ]
  },
  {
   "cell_type": "code",
   "execution_count": 11,
   "id": "175be401-e93a-4ebc-b33a-9d4293b7145c",
   "metadata": {},
   "outputs": [
    {
     "data": {
      "text/plain": [
       "[1, 3, 5, 7, 9]"
      ]
     },
     "execution_count": 11,
     "metadata": {},
     "output_type": "execute_result"
    }
   ],
   "source": [
    "list(filter(lambda x : x % 2 == 1, k))"
   ]
  },
  {
   "cell_type": "markdown",
   "id": "c3fc41bc-c107-4eea-8500-5ed1d454bb56",
   "metadata": {},
   "source": [
    "8 Answer"
   ]
  },
  {
   "cell_type": "code",
   "execution_count": 24,
   "id": "57eb0eea-85a3-4728-8e1f-7b495fcda2ba",
   "metadata": {},
   "outputs": [],
   "source": [
    "c = [1,2,3,4,5,6,-1,-2,-3,-4,-5,0]"
   ]
  },
  {
   "cell_type": "code",
   "execution_count": 25,
   "id": "7510960c-550c-4849-911c-871ffa7c0931",
   "metadata": {},
   "outputs": [
    {
     "data": {
      "text/plain": [
       "[1, 2, 3, 4, 5, 6, -1, -2, -3, -4, -5, 0]"
      ]
     },
     "execution_count": 25,
     "metadata": {},
     "output_type": "execute_result"
    }
   ],
   "source": [
    "c"
   ]
  },
  {
   "cell_type": "code",
   "execution_count": 35,
   "id": "60240576-b7c2-47fe-b03c-a3c74e414764",
   "metadata": {},
   "outputs": [],
   "source": [
    "positive_list = list(filter(lambda x : x >= 0,c))"
   ]
  },
  {
   "cell_type": "code",
   "execution_count": 36,
   "id": "1cf94d7d-5fef-4c8c-b584-11f1885d753d",
   "metadata": {},
   "outputs": [
    {
     "data": {
      "text/plain": [
       "[1, 2, 3, 4, 5, 6, 0]"
      ]
     },
     "execution_count": 36,
     "metadata": {},
     "output_type": "execute_result"
    }
   ],
   "source": [
    "positive_list"
   ]
  },
  {
   "cell_type": "code",
   "execution_count": null,
   "id": "90b7bb1c-bece-4005-9e27-ea4175fde6f7",
   "metadata": {},
   "outputs": [],
   "source": [
    "negative_list"
   ]
  }
 ],
 "metadata": {
  "kernelspec": {
   "display_name": "Python 3 (ipykernel)",
   "language": "python",
   "name": "python3"
  },
  "language_info": {
   "codemirror_mode": {
    "name": "ipython",
    "version": 3
   },
   "file_extension": ".py",
   "mimetype": "text/x-python",
   "name": "python",
   "nbconvert_exporter": "python",
   "pygments_lexer": "ipython3",
   "version": "3.10.8"
  }
 },
 "nbformat": 4,
 "nbformat_minor": 5
}
