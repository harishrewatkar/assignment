{
 "cells": [
  {
   "cell_type": "markdown",
   "id": "94306fcc-eef4-41a9-a40e-c8a8b5c6016d",
   "metadata": {},
   "source": [
    "Q1. What is\n",
    "an Exception in python? Write the difference between Exceptions\n",
    "and syntax errors."
   ]
  },
  {
   "cell_type": "markdown",
   "id": "5471c997-4cfd-47c1-86b9-89f2ce12cf3f",
   "metadata": {},
   "source": [
    "Ans : An exception is an error that occurs while a program is running, and it disrupts the normal flow of the program. When an exception occurs, Python will stop executing the program and raise an exception object that contains information about the error.\n",
    "Exceptions are often caused by factors outside of the programmer's control, such as a file not being found, or a network connection failing. However, exceptions can also be caused by errors in the program's logic, such as attempting to divide by zero.\n",
    "Syntax errors, on the other hand, occur when the Python interpreter encounters invalid code that does not conform to the language's syntax rules. These errors are detected by the interpreter during the compilation stage, before the program is actually executed.\n",
    "The main difference between exceptions and syntax errors is that syntax errors are detected during the compilation stage, before the program is executed, while exceptions occur during the program's execution. Syntax errors are typically caused by mistakes made by the programmer, such as typos, missing parentheses, or other syntax errors. In contrast, exceptions can be caused by a wide variety of factors, both within and outside of the program's control."
   ]
  },
  {
   "cell_type": "markdown",
   "id": "d65c541a-d3d2-44b2-ab9b-432d1acbeecc",
   "metadata": {},
   "source": [
    "Q2. What happens when an exception is not handled? Explain with an example."
   ]
  },
  {
   "cell_type": "markdown",
   "id": "f17208f3-a473-4c2d-a5d1-70b92338db62",
   "metadata": {},
   "source": [
    "Ans : When an exception is not handled in Python, the program will terminate and an error message will be displayed in the console. The error message will typically include information about the type of exception that was raised, as well as the line number and location in the code where the exception occurred."
   ]
  },
  {
   "cell_type": "code",
   "execution_count": 4,
   "id": "ab97fd27-7dd9-4c48-b00c-86ea66f8dbb8",
   "metadata": {},
   "outputs": [
    {
     "ename": "ZeroDivisionError",
     "evalue": "division by zero",
     "output_type": "error",
     "traceback": [
      "\u001b[0;31m---------------------------------------------------------------------------\u001b[0m",
      "\u001b[0;31mZeroDivisionError\u001b[0m                         Traceback (most recent call last)",
      "Cell \u001b[0;32mIn[4], line 2\u001b[0m\n\u001b[1;32m      1\u001b[0m \u001b[38;5;28;01mtry\u001b[39;00m:\n\u001b[0;32m----> 2\u001b[0m     x \u001b[38;5;241m=\u001b[39m \u001b[38;5;241;43m10\u001b[39;49m\u001b[43m \u001b[49m\u001b[38;5;241;43m/\u001b[39;49m\u001b[43m \u001b[49m\u001b[38;5;241;43m0\u001b[39;49m\n\u001b[1;32m      3\u001b[0m \u001b[38;5;28;01mexcept\u001b[39;00m \u001b[38;5;167;01mValueError\u001b[39;00m:\n\u001b[1;32m      4\u001b[0m     \u001b[38;5;28mprint\u001b[39m(\u001b[38;5;124m\"\u001b[39m\u001b[38;5;124mThis is a value error\u001b[39m\u001b[38;5;124m\"\u001b[39m)\n",
      "\u001b[0;31mZeroDivisionError\u001b[0m: division by zero"
     ]
    }
   ],
   "source": [
    "try:\n",
    "    x = 10 / 0\n",
    "except ValueError:\n",
    "    print(\"This is a value error\")"
   ]
  },
  {
   "cell_type": "markdown",
   "id": "50189261-4f4f-4593-ac6f-8a37e0f8e7ed",
   "metadata": {},
   "source": [
    "Here is an example:\n",
    "\n",
    "In this code, we are attempting to divide 10 by zero, which will raise a ZeroDivisionError. However, we have only included an except block for ValueError, not for ZeroDivisionError. Therefore, when the ZeroDivisionError is raised, it will not be handled, and the program will terminate with an error message:"
   ]
  },
  {
   "cell_type": "markdown",
   "id": "1884230e-bb36-4e14-87e7-3af2b1dfdfd9",
   "metadata": {},
   "source": [
    "Q3. Which Python statements are used to catch & handle exceptions? explain with an example."
   ]
  },
  {
   "cell_type": "markdown",
   "id": "ef02ab3f-856a-4e6f-870b-d5762c153936",
   "metadata": {},
   "source": [
    "Ans : We can catch and handle exceptions using the try and except statements. The try statement is used to enclose the code that may raise an exception, and the except statement is used to define what should happen if an exception is raised. Here is an example:"
   ]
  },
  {
   "cell_type": "code",
   "execution_count": 6,
   "id": "796e24b8-86f1-4e15-9a03-f1146f403b12",
   "metadata": {},
   "outputs": [
    {
     "name": "stdin",
     "output_type": "stream",
     "text": [
      "Enter a number:  0\n"
     ]
    },
    {
     "name": "stdout",
     "output_type": "stream",
     "text": [
      "You cannot divide by zero!\n"
     ]
    }
   ],
   "source": [
    "try:\n",
    "    num = int(input(\"Enter a number: \"))\n",
    "    result = 10 / num\n",
    "    print(result)\n",
    "except ZeroDivisionError:\n",
    "    print(\"You cannot divide by zero!\")\n",
    "except ValueError:\n",
    "    print(\"You must enter a valid integer!\")"
   ]
  },
  {
   "cell_type": "markdown",
   "id": "65de7b01-eb55-4189-a9a7-390b4298a549",
   "metadata": {},
   "source": [
    "In this code, we first try to get an integer from the user using the input() function and convert it to an integer using the int() function. This code could potentially raise two exceptions: a ValueError if the user enters something that cannot be converted to an integer, and a ZeroDivisionError if the user enters 0.\n",
    "We then use the try statement to enclose this code. If an exception is raised within the try block, Python will automatically exit the try block and execute the appropriate except block, based on the type of exception that was raised.\n",
    "In this case, we have defined two except blocks: one for ZeroDivisionError and one for ValueError. If a ZeroDivisionError is raised, Python will execute the first except block and print the message \"You cannot divide by zero!\". If a ValueError is raised, Python will execute the second except block and print the message \"You must enter a valid integer!\".\n",
    "By handling the exceptions in this way, we can prevent our program from crashing if unexpected inputs are provided by the user."
   ]
  },
  {
   "cell_type": "markdown",
   "id": "daabc81b-a81c-4d5a-8c31-2b4734cac349",
   "metadata": {},
   "source": [
    "Q4. Explain with an example:\n",
    "\n",
    "try and else\n",
    "\n",
    "finally\n",
    "\n",
    "raise"
   ]
  },
  {
   "cell_type": "markdown",
   "id": "8dc43e93-c196-446d-a3d9-998e3e6f355c",
   "metadata": {},
   "source": [
    "Ans : try and else, finally, and raise are important control flow statements in Python that can be used in conjunction with exception handling. Here is an explanation of each statement with an example:\n",
    "\n",
    "try and else :\n",
    "try and else can be used together to specify a block of code that should be executed if no exceptions are raised within the try block."
   ]
  },
  {
   "cell_type": "code",
   "execution_count": 16,
   "id": "fdefd551-2991-4576-8846-71c8192ce9a7",
   "metadata": {},
   "outputs": [
    {
     "name": "stdin",
     "output_type": "stream",
     "text": [
      "Enter a number:  hbf\n"
     ]
    },
    {
     "name": "stdout",
     "output_type": "stream",
     "text": [
      "You must enter a valid integer!\n"
     ]
    }
   ],
   "source": [
    "try:\n",
    "    num = int(input(\"Enter a number: \"))\n",
    "except ValueError:\n",
    "    print(\"You must enter a valid integer!\")\n",
    "else:\n",
    "    result = num * 2\n",
    "    print(\"The result is:\", result)"
   ]
  },
  {
   "cell_type": "markdown",
   "id": "613f6d7d-d669-45f5-9077-074250baafec",
   "metadata": {},
   "source": [
    "finally is a statement that can be used to specify a block of code that should be executed regardless of whether an exception is raised or not. Here is an example:\n"
   ]
  },
  {
   "cell_type": "code",
   "execution_count": 15,
   "id": "c1a2faba-8ca6-480b-8668-b819f3a93789",
   "metadata": {},
   "outputs": [
    {
     "name": "stdout",
     "output_type": "stream",
     "text": [
      "The file was not found!\n",
      "it will print at any situation\n"
     ]
    }
   ],
   "source": [
    "try:\n",
    "    file = open(\"example.txt\", \"r\")\n",
    "    # some code that reads from the file\n",
    "except FileNotFoundError:\n",
    "    print(\"The file was not found!\")\n",
    "finally:\n",
    "    print('it will print at any situation')"
   ]
  },
  {
   "cell_type": "markdown",
   "id": "223ef4d6-22d8-456d-8a4d-732039c7682a",
   "metadata": {},
   "source": [
    "raise is a statement that can be used to raise an exception manually."
   ]
  },
  {
   "cell_type": "code",
   "execution_count": 18,
   "id": "b5ec0b69-6b72-4e2a-83ee-3283bf96ad92",
   "metadata": {},
   "outputs": [],
   "source": [
    "def validate_age(age):\n",
    "    if age < 0:\n",
    "        raise ValueError(\"Age cannot be negative!\")\n",
    "    elif age > 120:\n",
    "        raise ValueError(\"Age cannot be greater than 120!\")\n",
    "    else:\n",
    "        print(\"Age is valid!\")"
   ]
  },
  {
   "cell_type": "markdown",
   "id": "c921e403-b375-4ee6-a0ad-31f15abecef0",
   "metadata": {},
   "source": [
    "Q5. What are the custom exceptions in python? Why do we need to custom exceptions. Explain with an axample. "
   ]
  },
  {
   "cell_type": "markdown",
   "id": "c0a70b3b-86f4-4e62-9d5c-cbfbc7ca8df3",
   "metadata": {},
   "source": [
    "Ans : In Python, we can create your own custom exceptions by creating a new class that inherits from the Exception class. Custom exceptions are useful when you want to define your own types of exceptions that are specific to your application or library.\n",
    "\n",
    "There are several reasons why you might want to use custom exceptions:\n",
    "More informative error messages: Custom exceptions can have more informative error messages that provide more detail about what went wrong.\n",
    "Better code organization: By defining your own exceptions, you can better organize your code and make it easier to understand and maintain.\n",
    "Consistency with the rest of your code: By defining your own exceptions, you can ensure that your code follows the same exception-handling patterns throughout your codebase.\n"
   ]
  },
  {
   "cell_type": "code",
   "execution_count": 19,
   "id": "5a02ac8e-5a2f-457c-a39c-29926d260862",
   "metadata": {},
   "outputs": [],
   "source": [
    "class InvalidEmailError(Exception):\n",
    "    pass\n",
    "\n",
    "def send_email(to, subject, message):\n",
    "    if \"@\" not in to:\n",
    "        raise InvalidEmailError(\"Invalid email address: {}\".format(to))"
   ]
  },
  {
   "cell_type": "markdown",
   "id": "f29f4177-1ed8-4f61-a9d1-6bec23555dda",
   "metadata": {},
   "source": [
    "In this example, we define a custom exception called InvalidEmailError that inherits from the built-in Exception class. We then define a function called send_email() that takes to, subject, and message parameters.\n",
    "Within the send_email() function, we check if the to parameter contains the \"@\" symbol that is typical in email addresses. If it does not, we raise an InvalidEmailError exception with a custom error message that includes the invalid email address.\n",
    "By defining our own custom exception in this way, we can ensure that the code that calls the send_email() function knows exactly why an error occurred, rather than simply catching a generic Exception and having to parse the error message. Additionally, by raising the InvalidEmailError, we can make it clear to the developer what types of errors might occur in the send_email() function and make it easier to handle those errors appropriately."
   ]
  },
  {
   "cell_type": "markdown",
   "id": "03db57fb-a782-48ba-be0d-c0247a567d02",
   "metadata": {},
   "source": [
    "Q6. Create an custom exception class. Use this class to handle an exception."
   ]
  },
  {
   "cell_type": "code",
   "execution_count": 2,
   "id": "0c304d7d-b344-439c-9811-ed1416495233",
   "metadata": {},
   "outputs": [
    {
     "name": "stdout",
     "output_type": "stream",
     "text": [
      "An error occurred: Division by zero is not allowed!\n"
     ]
    }
   ],
   "source": [
    "class InvalidInputError(Exception):\n",
    "    def __init__(self, message):\n",
    "        self.message = message\n",
    "\n",
    "def divide(a, b):\n",
    "    if b == 0:\n",
    "        raise InvalidInputError(\"Division by zero is not allowed!\")\n",
    "    return a / b\n",
    "\n",
    "try:\n",
    "    result = divide(10, 0)\n",
    "except InvalidInputError as e:\n",
    "    print(\"An error occurred:\", e.message)\n",
    "else:\n",
    "    print(\"The result is:\", result)"
   ]
  },
  {
   "cell_type": "markdown",
   "id": "57a63ebd-67ca-42c6-99f1-1ce16edb4456",
   "metadata": {},
   "source": [
    "In this example, we define a custom exception class called InvalidInputError that inherits from the built-in Exception class. We give the InvalidInputError class an initializer that takes a message parameter, which will be used to store the error message associated with the exception.\n",
    "\n",
    "We then define a function called divide() that takes two parameters, a and b. Within the function, we check if b is equal to 0, and if it is, we raise an InvalidInputError exception with a custom error message that tells the user that division by zero is not allowed.\n",
    "\n",
    "We then use a try/except block to call the divide() function with arguments 10 and 0. Since this will raise an InvalidInputError, the except block will execute and print the error message associated with the exception. If the divide() function had been called with valid arguments, the else block would have executed and printed the result of the division."
   ]
  },
  {
   "cell_type": "code",
   "execution_count": null,
   "id": "58830c13-ae75-46e7-8374-f19c914e91e6",
   "metadata": {},
   "outputs": [],
   "source": []
  }
 ],
 "metadata": {
  "kernelspec": {
   "display_name": "Python 3 (ipykernel)",
   "language": "python",
   "name": "python3"
  },
  "language_info": {
   "codemirror_mode": {
    "name": "ipython",
    "version": 3
   },
   "file_extension": ".py",
   "mimetype": "text/x-python",
   "name": "python",
   "nbconvert_exporter": "python",
   "pygments_lexer": "ipython3",
   "version": "3.10.8"
  }
 },
 "nbformat": 4,
 "nbformat_minor": 5
}
