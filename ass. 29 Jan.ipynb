{
 "cells": [
  {
   "cell_type": "markdown",
   "id": "4505e61a-7fdf-4696-ac62-cca26a4bb14f",
   "metadata": {},
   "source": [
    "1. Who developed Python Programing Language?"
   ]
  },
  {
   "cell_type": "markdown",
   "id": "fa168171-a2fd-4bf5-bd32-457a6468b0af",
   "metadata": {},
   "source": [
    "Answer : Python was created by Guido Van Rossum and firstly released on February 20, 1991"
   ]
  },
  {
   "cell_type": "markdown",
   "id": "66bfcc9d-12d3-4ffb-ae6d-39d76e6f89d9",
   "metadata": {},
   "source": [
    "2. Which type of programming language does python support?"
   ]
  },
  {
   "cell_type": "markdown",
   "id": "68065ed3-a101-4922-a8b0-43a097087d7c",
   "metadata": {},
   "source": [
    "Answer : Python supports Object oriented programming & structured programming."
   ]
  },
  {
   "cell_type": "markdown",
   "id": "23893e72-ca80-463a-8887-cd6900834c53",
   "metadata": {},
   "source": [
    "3. Is python case sensitive when dealing with identifiers?"
   ]
  },
  {
   "cell_type": "markdown",
   "id": "1812343d-32e1-4bfd-bd6c-3c0b8e851609",
   "metadata": {},
   "source": [
    "Answer : Yes, Python is case senstive programming language."
   ]
  },
  {
   "cell_type": "markdown",
   "id": "51298304-3717-405e-ac28-22d680d9b8d6",
   "metadata": {},
   "source": [
    "4. What is the correct extension for the python file?"
   ]
  },
  {
   "cell_type": "markdown",
   "id": "c857f154-1d9f-4d8f-9c7f-a5e29e9fb1aa",
   "metadata": {},
   "source": [
    "Answer : Python file extension is .py"
   ]
  },
  {
   "cell_type": "markdown",
   "id": "8473622f-2fbd-4e4f-aab1-bc229d39abc2",
   "metadata": {},
   "source": [
    "5. Is python code compiled or interpreted?"
   ]
  },
  {
   "cell_type": "markdown",
   "id": "e4296d5a-0af2-41c7-b22d-2f97d92d4dd7",
   "metadata": {},
   "source": [
    "Answer : Python code is a interpreted."
   ]
  },
  {
   "cell_type": "markdown",
   "id": "25c46df6-6698-4a6b-a2f5-6274a2316214",
   "metadata": {},
   "source": [
    "6. Name a few blocks of code used to define in python language?"
   ]
  },
  {
   "cell_type": "markdown",
   "id": "e8641c20-c82a-4878-a940-b813381c0cb1",
   "metadata": {},
   "source": [
    "Answer : if, while, class are the few blocks of code to define in python language."
   ]
  },
  {
   "cell_type": "markdown",
   "id": "eb190771-4619-469e-94f2-0fd863fc5542",
   "metadata": {},
   "source": [
    "7. State a character used to give single-line comments in python?"
   ]
  },
  {
   "cell_type": "markdown",
   "id": "522f0937-8864-4115-a53f-dce5f52dfca9",
   "metadata": {},
   "source": [
    "Answer : Hash Character (#) use for to give single-line comments in python."
   ]
  },
  {
   "cell_type": "markdown",
   "id": "574862a0-fc86-4795-8a5a-f53fe995611a",
   "metadata": {},
   "source": [
    "8. Mention functions which can help us to find the version of python that we are currently working on?"
   ]
  },
  {
   "cell_type": "markdown",
   "id": "00bd51db-ac53-4655-91fc-ed0df44287c1",
   "metadata": {},
   "source": [
    "Answer : From platform import python_version and then print(python_version())."
   ]
  },
  {
   "cell_type": "markdown",
   "id": "7834dc9b-b933-4c45-b999-58d819c91a48",
   "metadata": {},
   "source": [
    "9. Python supports the creation of anonymus functions at runtime, using a construct called _________?"
   ]
  },
  {
   "cell_type": "markdown",
   "id": "3e4a0b5e-10db-492f-9110-b934d5132ff1",
   "metadata": {},
   "source": [
    "Answer : Lambda"
   ]
  },
  {
   "cell_type": "markdown",
   "id": "0f4493a9-9b26-4280-9025-d0540f7573bb",
   "metadata": {},
   "source": [
    "10. What does the pip stand for in python?"
   ]
  },
  {
   "cell_type": "markdown",
   "id": "76495dcb-8009-40ba-ae2a-70811e560b5e",
   "metadata": {},
   "source": [
    "Answer : Pip stand for preferred installer program in python."
   ]
  },
  {
   "cell_type": "markdown",
   "id": "d2786c33-bd4d-4215-9755-c6b9c584c577",
   "metadata": {},
   "source": [
    "11. Mention a few built in functions in python?"
   ]
  },
  {
   "cell_type": "markdown",
   "id": "ff46b375-ba8b-4032-8354-378cad3cd3f4",
   "metadata": {},
   "source": [
    "Answer : float(), dict(), min(), print(), sum(), tuple() these a some built in functions in python."
   ]
  },
  {
   "cell_type": "markdown",
   "id": "79351643-8afc-4af3-8217-1d33ffe1a99c",
   "metadata": {},
   "source": [
    "12. What is the maximum possible length of an identifier in python?"
   ]
  },
  {
   "cell_type": "markdown",
   "id": "e8965c5e-0a4e-4b04-9489-ceb09d677275",
   "metadata": {},
   "source": [
    "Answer : 79 characters is the maximum possible length of an identifier in python."
   ]
  },
  {
   "cell_type": "markdown",
   "id": "0ca16696-fb34-4603-9cf4-bb60e9f121a9",
   "metadata": {},
   "source": [
    "13. What are the benefits of using python ? "
   ]
  },
  {
   "cell_type": "markdown",
   "id": "c247a230-d326-4aa8-b922-861e72c25570",
   "metadata": {},
   "source": [
    "Answer : These are the benefits of using python : 1. Libraries help to reduce coding error 2. Make programmers more efficient 3.need to write less amount of code than others. 4. Free & Open-source."
   ]
  },
  {
   "cell_type": "markdown",
   "id": "dcdfed7a-3f92-4619-bf68-1facb1a43bef",
   "metadata": {},
   "source": [
    "14. How is the memory manages in the python ?"
   ]
  },
  {
   "cell_type": "markdown",
   "id": "a1a1e2eb-15f6-441b-8264-f26578b5f04c",
   "metadata": {},
   "source": [
    "Answer : Memory management in python involves a private heap containing all python objects and data structures. The management of this private heap is ensured internally by the python memory manager."
   ]
  },
  {
   "cell_type": "markdown",
   "id": "e74bdf31-6712-4970-be01-382b6ec37b30",
   "metadata": {},
   "source": [
    "15. How to install python on windows and set path variables ?"
   ]
  },
  {
   "cell_type": "markdown",
   "id": "fa2b484f-9558-4bf7-9dd1-0ec60e500a9b",
   "metadata": {},
   "source": [
    "Answer : In the section entitled User Variables, double-click on the entry that says Path. Another window will pop up showing a list of paths. Click the New button and paste the path to your Python executable there. Once that's inserted, select your newly added path and click the Move Up button until it's at the top."
   ]
  },
  {
   "cell_type": "markdown",
   "id": "88fa52a6-fdc9-4079-a8ce-d4fa03ae22df",
   "metadata": {},
   "source": [
    "16. Is indentation required in python ?"
   ]
  },
  {
   "cell_type": "markdown",
   "id": "35aad4a9-9607-40c8-bd28-ab0c283574d9",
   "metadata": {},
   "source": [
    "Answer : Yes, Indentation required in python."
   ]
  },
  {
   "cell_type": "code",
   "execution_count": null,
   "id": "2fc4bc9f-e631-4fbb-b254-fd0218139a61",
   "metadata": {},
   "outputs": [],
   "source": []
  }
 ],
 "metadata": {
  "kernelspec": {
   "display_name": "Python 3 (ipykernel)",
   "language": "python",
   "name": "python3"
  },
  "language_info": {
   "codemirror_mode": {
    "name": "ipython",
    "version": 3
   },
   "file_extension": ".py",
   "mimetype": "text/x-python",
   "name": "python",
   "nbconvert_exporter": "python",
   "pygments_lexer": "ipython3",
   "version": "3.10.8"
  }
 },
 "nbformat": 4,
 "nbformat_minor": 5
}
