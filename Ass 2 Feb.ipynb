{
 "cells": [
  {
   "cell_type": "markdown",
   "id": "f4b4f7be-2898-451c-8ae7-d24cd46ab95a",
   "metadata": {},
   "source": [
    "Q1. Explain with an example each when to use a for loop and a while loop."
   ]
  },
  {
   "cell_type": "markdown",
   "id": "52d73e54-f739-4f71-875f-2a909bb3ad6a",
   "metadata": {},
   "source": [
    "Answer : A for loop is useful when we want to iterate over a sequence of elements, such as a list, tuple or string. A while loop is useful when we want to repeat a block of code until a certain condition is met, or when you don't know how many times you need to repeat the code.\n",
    "\n",
    "Ex. when to use for loop :\n",
    "Sum all the elements in a list\n",
    "numbers = [1,2,3,4,5]\n",
    "sum = 0 \n",
    "\n",
    "for num in numbers: \n",
    "    sum+= num \n",
    "print(sum)\n",
    "Output = 15\n",
    "\n",
    "In this example we use a for loop to iterate over each elements in the numbers list and add it to the sum variable. The loop ends when all elements have been processed.\n",
    "\n",
    "Ex. when to use while loop :\n",
    "count down from 10 to 1\n",
    "count = 10\n",
    "while count > 0 :\n",
    "    print(count)\n",
    "    count -= 1\n",
    "print ('end')\n",
    "output = 10 9 8 7 6 5 4 3 2 1 end\n",
    "\n",
    "In this example we use a while loop to repetedly print the current value of count and then decrement it by 1. The loop countinuous untill count = 0, at which time the loop exits and print end."
   ]
  },
  {
   "cell_type": "markdown",
   "id": "d90bb5de-9073-4b4f-bf04-149c327970a8",
   "metadata": {},
   "source": [
    "Q2. Write a python program to print the sum and product of the first 10 natural numbers using for\n",
    "and while loop."
   ]
  },
  {
   "cell_type": "code",
   "execution_count": 7,
   "id": "43372e1f-20da-461b-a667-ade1ad3c91e8",
   "metadata": {},
   "outputs": [
    {
     "name": "stdout",
     "output_type": "stream",
     "text": [
      "sum: 55\n",
      "product: 3628800\n"
     ]
    }
   ],
   "source": [
    "# Using for loop\n",
    "numbers = range(1,11)\n",
    "sum = 0\n",
    "product = 1\n",
    "for num in numbers :\n",
    "    sum += num\n",
    "    product *= num\n",
    "print ('sum:',sum)\n",
    "print ('product:',product)"
   ]
  },
  {
   "cell_type": "code",
   "execution_count": 8,
   "id": "9d441d55-b979-4940-aa11-aa5c5b3084a4",
   "metadata": {},
   "outputs": [
    {
     "name": "stdout",
     "output_type": "stream",
     "text": [
      "sum: 55\n",
      "product 3628800\n"
     ]
    }
   ],
   "source": [
    "# Using while loop\n",
    "numbers = range(1,11)\n",
    "sum = 0\n",
    "product = 1\n",
    "i = 0\n",
    "while i < len(numbers):\n",
    "    sum += numbers[i]\n",
    "    product *= numbers[i]\n",
    "    i += 1\n",
    "print ('sum:',sum)\n",
    "print ('product',product)"
   ]
  },
  {
   "cell_type": "markdown",
   "id": "4fb89b2e-4c6c-4982-a3a5-86bf8aecea6c",
   "metadata": {},
   "source": [
    "Q3. Create a python program to compute the electricity bill for a household.\n",
    "\n",
    "The per-unit charges in rupees are as follows: For the first 100 units, the user will be charged Rs. 4.5 per\n",
    "unit, for the next 100 units, the user will be charged Rs. 6 per unit, and for the next 100 units, the user will\n",
    "be charged Rs. 10 per unit, After 300 units and above the user will be charged Rs. 20 per unit.\n",
    "You are required to take the units of electricity consumed in a month from the user as input.\n",
    "Your program must pass this test case: when the unit of electricity consumed by the user in a month is\n",
    "310, the total electricity bill should be 2250."
   ]
  },
  {
   "cell_type": "code",
   "execution_count": 9,
   "id": "1c763ae5-2300-4368-aca9-75bcbf4a977d",
   "metadata": {},
   "outputs": [
    {
     "name": "stdin",
     "output_type": "stream",
     "text": [
      "Enter you electricity in units 310\n"
     ]
    },
    {
     "name": "stdout",
     "output_type": "stream",
     "text": [
      "Your total electricity bill is: 2250.0\n"
     ]
    }
   ],
   "source": [
    "ele_consumed = int(input('Enter you electricity in units'))\n",
    "\n",
    "if ele_consumed <= 100 :\n",
    "    print ('Your total electricity bill is:', ele_consumed * 4.5)\n",
    "elif ele_consumed >= 101 and ele_consumed <= 200 :\n",
    "    print ('Your total electricity bill is:', 100 * 4.5 + (ele_consumed - 100) * 6)\n",
    "elif ele_consumed >=201 and ele_consumed <= 300 :\n",
    "    print ('Your total electricity bill is:', 100 * 4.5 + 100 * 6 + (ele_consumed - 200) * 10)\n",
    "else :\n",
    "    print ('Your total electricity bill is:', 100 * 4.5 + 100 * 6 + 100 * 10 + (ele_consumed - 300) * 20)"
   ]
  },
  {
   "cell_type": "markdown",
   "id": "74295cb3-7d49-4678-a69c-37106595965c",
   "metadata": {},
   "source": [
    "Q4. Create a list of numbers from 1 to 100. Use for loop and while loop to calculate the cube of each\n",
    "number and if the cube of that number is divisible by 4 or 5 then append that number in a list and print\n",
    "that list."
   ]
  },
  {
   "cell_type": "code",
   "execution_count": 12,
   "id": "f37757c8-e1bd-4a43-bab1-51e1c4eee198",
   "metadata": {},
   "outputs": [
    {
     "name": "stdout",
     "output_type": "stream",
     "text": [
      "[8, 64, 125, 216, 512, 1000, 1728, 2744, 3375, 4096, 5832, 8000, 10648, 13824, 15625, 17576, 21952, 27000, 32768, 39304, 42875, 46656, 54872, 64000, 74088, 85184, 91125, 97336, 110592, 125000, 140608, 157464, 166375, 175616, 195112, 216000, 238328, 262144, 274625, 287496, 314432, 343000, 373248, 405224, 421875, 438976, 474552, 512000, 551368, 592704, 614125, 636056, 681472, 729000, 778688, 830584, 857375, 884736, 941192, 1000000]\n"
     ]
    }
   ],
   "source": [
    "# Using for loop\n",
    "a = list(range(1,101))\n",
    "b = []\n",
    "\n",
    "for i in a :\n",
    "    cube = i**3\n",
    "    if cube % 5 == 0 or cube % 4 == 0 :\n",
    "        b.append(cube)\n",
    "print (b)"
   ]
  },
  {
   "cell_type": "code",
   "execution_count": 13,
   "id": "63cbf131-7e15-4591-9d67-2d4951b80e36",
   "metadata": {},
   "outputs": [
    {
     "name": "stdout",
     "output_type": "stream",
     "text": [
      "[8, 64, 125, 216, 512, 1000, 1728, 2744, 3375, 4096, 5832, 8000, 10648, 13824, 15625, 17576, 21952, 27000, 32768, 39304, 42875, 46656, 54872, 64000, 74088, 85184, 91125, 97336, 110592, 125000, 140608, 157464, 166375, 175616, 195112, 216000, 238328, 262144, 274625, 287496, 314432, 343000, 373248, 405224, 421875, 438976, 474552, 512000, 551368, 592704, 614125, 636056, 681472, 729000, 778688, 830584, 857375, 884736, 941192, 1000000]\n"
     ]
    }
   ],
   "source": [
    "# using while loop\n",
    "c = list(range(1,101))\n",
    "d = []\n",
    "i = 0\n",
    "while i < len(c):\n",
    "    cube = c[i] ** 3\n",
    "    if cube % 5 == 0 or cube % 4 == 0 :\n",
    "        d.append(cube)\n",
    "    i += 1\n",
    "print (d)"
   ]
  },
  {
   "cell_type": "markdown",
   "id": "7e1a5714-9e80-4bfd-a3fe-304ec0b4d97f",
   "metadata": {},
   "source": [
    "Q5. Write a program to filter count vowels in the below-given string.\n",
    "string = \"I want to become a data scientist\""
   ]
  },
  {
   "cell_type": "code",
   "execution_count": 15,
   "id": "12cdab35-af63-4137-ab6b-bc1eb03a3168",
   "metadata": {},
   "outputs": [
    {
     "name": "stdout",
     "output_type": "stream",
     "text": [
      "number of vowels in string: 12\n"
     ]
    }
   ],
   "source": [
    "string = \"I want to become a data scientist\"\n",
    "vowels = ['a','e','i','o','u']\n",
    "count = 0\n",
    "for i in string :\n",
    "    if i.lower() in vowels :\n",
    "        count += 1\n",
    "print('number of vowels in string:',count)"
   ]
  },
  {
   "cell_type": "code",
   "execution_count": null,
   "id": "fcaf306f-8966-407a-a3a8-acd2de1f2ec6",
   "metadata": {},
   "outputs": [],
   "source": []
  }
 ],
 "metadata": {
  "kernelspec": {
   "display_name": "Python 3 (ipykernel)",
   "language": "python",
   "name": "python3"
  },
  "language_info": {
   "codemirror_mode": {
    "name": "ipython",
    "version": 3
   },
   "file_extension": ".py",
   "mimetype": "text/x-python",
   "name": "python",
   "nbconvert_exporter": "python",
   "pygments_lexer": "ipython3",
   "version": "3.10.8"
  }
 },
 "nbformat": 4,
 "nbformat_minor": 5
}
