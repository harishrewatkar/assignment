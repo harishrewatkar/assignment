{
 "cells": [
  {
   "cell_type": "markdown",
   "id": "6342aa76-a83a-43db-a58b-b64dfa02c66f",
   "metadata": {},
   "source": [
    "Q1. Which keyword is used to create a function? Create a function to return a list of odd numbers in the\n",
    "range of 1 to 25."
   ]
  },
  {
   "cell_type": "markdown",
   "id": "d6ea20f1-d7af-4888-9d0f-7518c5dee06a",
   "metadata": {},
   "source": [
    "Answer : This keyword is used to create a functions \\\n",
    "         def function_name(Arguments):\n",
    "    "
   ]
  },
  {
   "cell_type": "code",
   "execution_count": 11,
   "id": "d8ec0966-b4f3-45bd-ad98-171454e0d9c0",
   "metadata": {},
   "outputs": [],
   "source": [
    "def h1():\n",
    "    l1 =[]\n",
    "    a = list(range(1,25))\n",
    "    for i in a :\n",
    "        if i % 2 == 1 :\n",
    "            l1.append(i)\n",
    "    return l1"
   ]
  },
  {
   "cell_type": "code",
   "execution_count": 12,
   "id": "5cee91f8-e6f1-4009-afce-3459d645dff5",
   "metadata": {},
   "outputs": [
    {
     "data": {
      "text/plain": [
       "[1, 3, 5, 7, 9, 11, 13, 15, 17, 19, 21, 23]"
      ]
     },
     "execution_count": 12,
     "metadata": {},
     "output_type": "execute_result"
    }
   ],
   "source": [
    "h1()"
   ]
  },
  {
   "cell_type": "markdown",
   "id": "b0a6ddfc-abe4-47ac-ae57-d671f976d446",
   "metadata": {},
   "source": [
    "Q2. Why *args and **kwargs is used in some functions? Create a function each for *args and **kwargs\n",
    "to demonstrate their use."
   ]
  },
  {
   "cell_type": "markdown",
   "id": "98d5e9a1-f11a-4a18-92f3-2abd5a0efdf2",
   "metadata": {},
   "source": [
    "Answer : *args is used for the nth number of arguments means user don't need to use any fix number of arguments in function. & **kwargs is used for the if we want output in the dictionary data type means user need to put key:values pair in the arguments."
   ]
  },
  {
   "cell_type": "code",
   "execution_count": 13,
   "id": "7b8d4c66-b23d-4cdb-9b74-b3c4db4ff2f1",
   "metadata": {},
   "outputs": [],
   "source": [
    "def fun1(*args):\n",
    "    return args"
   ]
  },
  {
   "cell_type": "code",
   "execution_count": 16,
   "id": "796e7878-32fd-4913-913c-afe9f7f501cf",
   "metadata": {},
   "outputs": [
    {
     "data": {
      "text/plain": [
       "(12, 43, 533)"
      ]
     },
     "execution_count": 16,
     "metadata": {},
     "output_type": "execute_result"
    }
   ],
   "source": [
    "fun1(12,43,533)"
   ]
  },
  {
   "cell_type": "markdown",
   "id": "d44714df-b990-475a-889b-2cd2db36fe9d",
   "metadata": {},
   "source": [
    "In the row 13, I used *args as a argument for the any amoount of arguments I can put there."
   ]
  },
  {
   "cell_type": "code",
   "execution_count": 19,
   "id": "70f38a33-21e6-4faf-b311-6c6d4481aaa5",
   "metadata": {},
   "outputs": [],
   "source": [
    "def fun2(**kwargs):\n",
    "    return kwargs"
   ]
  },
  {
   "cell_type": "code",
   "execution_count": 21,
   "id": "9e02c04d-9270-465d-b329-8664b7177317",
   "metadata": {},
   "outputs": [
    {
     "data": {
      "text/plain": [
       "{'a': 'harish', 'b': 255, 'c': [2353, 2556, 355, 'sudh', 'kumar']}"
      ]
     },
     "execution_count": 21,
     "metadata": {},
     "output_type": "execute_result"
    }
   ],
   "source": [
    "fun2(a = 'harish', b = 255, c = [2353,2556,355,'sudh','kumar'])"
   ]
  },
  {
   "cell_type": "markdown",
   "id": "4107b236-f5cf-412f-8fd4-c5340fe743b5",
   "metadata": {},
   "source": [
    "We can see clearly the output of 21 row is in dictionary data type."
   ]
  },
  {
   "cell_type": "markdown",
   "id": "0cd86ce3-74f4-4016-94aa-0fdcb3b79fb4",
   "metadata": {},
   "source": [
    "Q3. What is an iterator in python? Name the method used to initialise the iterator object and the method\n",
    "used for iteration. Use these methods to print the first five elements of the given list [2, 4, 6, 8, 10, 12, 14,\n",
    "16, 18, 20]."
   ]
  },
  {
   "cell_type": "markdown",
   "id": "780c7aab-f632-4a63-a51e-97436c27ae0f",
   "metadata": {},
   "source": [
    "Answer : Iterator is an object where we can go to element next by next automatically. This method used to initialise iterator object iter() & for the iteration we use next()."
   ]
  },
  {
   "cell_type": "code",
   "execution_count": 15,
   "id": "fec97f59-5598-41dd-9a4a-df85c6eddb04",
   "metadata": {},
   "outputs": [
    {
     "name": "stdout",
     "output_type": "stream",
     "text": [
      "2\n",
      "4\n",
      "6\n",
      "8\n",
      "10\n"
     ]
    }
   ],
   "source": [
    "l = [2,4,6,8,10,12,14,16,28,20]\n",
    "a = iter(l)\n",
    "print(next(a))\n",
    "print(next(a))\n",
    "print(next(a))\n",
    "print(next(a))\n",
    "print(next(a))"
   ]
  },
  {
   "cell_type": "markdown",
   "id": "51b1d187-d245-48ba-a9d7-7e32d7e15fc1",
   "metadata": {},
   "source": [
    "Q4. What is a generator function in python? Why yield keyword is used? Give an example of a generator\n",
    "function."
   ]
  },
  {
   "cell_type": "markdown",
   "id": "680c4422-dd8d-4fba-a8b2-562514ca8572",
   "metadata": {},
   "source": [
    "Answer : A generator function is a special kind of function that returns an iterator, which can be used to iterate over a sequence of values.\n",
    "The yield keyword is used to return a value from the generator function and pause its execution, so that it can be resumed from the same point later. Each time the yield keyword is encountered, the function returns the value following the yield keyword and pauses its execution. When the iterator's next() method is called again, the function resumes its execution from the point it left off."
   ]
  },
  {
   "cell_type": "code",
   "execution_count": 5,
   "id": "4074255e-6c59-4742-b68d-e395eaca28b3",
   "metadata": {},
   "outputs": [],
   "source": [
    "def sequence():\n",
    "    num = 0\n",
    "    while True:\n",
    "        yield num\n",
    "        num += 1"
   ]
  },
  {
   "cell_type": "code",
   "execution_count": 6,
   "id": "5876c630-0593-4747-aca3-1e8aa4fbc8a6",
   "metadata": {},
   "outputs": [
    {
     "name": "stdout",
     "output_type": "stream",
     "text": [
      "0\n",
      "1\n",
      "2\n"
     ]
    }
   ],
   "source": [
    "my_sequence = sequence()\n",
    "print(next(my_sequence))  \n",
    "print(next(my_sequence))  \n",
    "print(next(my_sequence))"
   ]
  },
  {
   "cell_type": "markdown",
   "id": "78adac8d-e8cd-4633-8a61-af7446866304",
   "metadata": {},
   "source": [
    "Q5. Create a generator function for prime numbers less than 1000. Use the next() method to print the\n",
    "first 20 prime numbers."
   ]
  },
  {
   "cell_type": "code",
   "execution_count": 31,
   "id": "1b852259-00d7-4e7c-b184-89112191a06d",
   "metadata": {},
   "outputs": [],
   "source": [
    "def prime_number():\n",
    "    for num in range(2, 1000):\n",
    "        is_prime = True\n",
    "        for i in range(2, int(num ** 0.5) + 1):\n",
    "            if num % i == 0:\n",
    "                is_prime = False\n",
    "                break\n",
    "        if is_prime:\n",
    "            yield num"
   ]
  },
  {
   "cell_type": "code",
   "execution_count": 32,
   "id": "171d3310-6472-4028-8c48-34d00c53a914",
   "metadata": {},
   "outputs": [],
   "source": [
    "pn = prime_number()"
   ]
  },
  {
   "cell_type": "code",
   "execution_count": 33,
   "id": "a4b18210-3364-4519-901e-82165d2114c5",
   "metadata": {},
   "outputs": [
    {
     "name": "stdout",
     "output_type": "stream",
     "text": [
      "2\n",
      "3\n",
      "5\n",
      "7\n",
      "11\n",
      "13\n",
      "17\n",
      "19\n",
      "23\n",
      "29\n",
      "31\n",
      "37\n",
      "41\n",
      "43\n",
      "47\n",
      "53\n",
      "59\n",
      "61\n",
      "67\n",
      "71\n"
     ]
    }
   ],
   "source": [
    "for i in range(20):\n",
    "    print(next(pn))"
   ]
  },
  {
   "cell_type": "markdown",
   "id": "80576880-a33b-4666-9d09-732b4574987d",
   "metadata": {},
   "source": [
    "Q6. Write a python program to print the first 10 Fibonacci numbers using a while loop."
   ]
  },
  {
   "cell_type": "code",
   "execution_count": 38,
   "id": "0a2560e8-7baa-49ea-b643-bb54d6134b66",
   "metadata": {},
   "outputs": [],
   "source": [
    "def fib_test():\n",
    "    a,b = 0,1\n",
    "    while True :\n",
    "        yield a\n",
    "        a,b = b, a+b"
   ]
  },
  {
   "cell_type": "code",
   "execution_count": 39,
   "id": "ad348494-293c-4244-8ee2-c15ed764cf61",
   "metadata": {},
   "outputs": [],
   "source": [
    "ft = fib_test()"
   ]
  },
  {
   "cell_type": "code",
   "execution_count": 40,
   "id": "a1abf0e3-8ca9-463c-b14a-b706469cdb1d",
   "metadata": {},
   "outputs": [
    {
     "name": "stdout",
     "output_type": "stream",
     "text": [
      "0\n",
      "1\n",
      "1\n",
      "2\n",
      "3\n",
      "5\n",
      "8\n",
      "13\n",
      "21\n",
      "34\n"
     ]
    }
   ],
   "source": [
    "for i in range(10):\n",
    "    print(next(ft))"
   ]
  },
  {
   "cell_type": "markdown",
   "id": "1a2489e5-1feb-4eea-8bd3-ff21d196c390",
   "metadata": {},
   "source": [
    "Q7. Write a List Comprehension to iterate through the given string: ‘pwskills’.\n",
    "Expected output: ['p', 'w', 's', 'k', 'i', 'l', 'l', 's']"
   ]
  },
  {
   "cell_type": "code",
   "execution_count": 41,
   "id": "626aa8d2-022b-4ab8-b113-1a080000f399",
   "metadata": {},
   "outputs": [],
   "source": [
    "s = 'pwskills'"
   ]
  },
  {
   "cell_type": "code",
   "execution_count": 43,
   "id": "aaf4d88c-9b30-4313-bd51-de52ba4cd285",
   "metadata": {},
   "outputs": [
    {
     "data": {
      "text/plain": [
       "['p', 'w', 's', 'k', 'i', 'l', 'l', 's']"
      ]
     },
     "execution_count": 43,
     "metadata": {},
     "output_type": "execute_result"
    }
   ],
   "source": [
    "[i for i in s]"
   ]
  },
  {
   "cell_type": "markdown",
   "id": "0579e797-fa1c-4ca7-b463-40e9d44b0551",
   "metadata": {},
   "source": [
    "Q8. Write a python program to check whether a given number is Palindrome or not using a while loop."
   ]
  },
  {
   "cell_type": "code",
   "execution_count": 44,
   "id": "984b76d6-46fb-42fb-a69a-201eeaac6dc6",
   "metadata": {},
   "outputs": [
    {
     "name": "stdout",
     "output_type": "stream",
     "text": [
      "True\n",
      "True\n",
      "False\n"
     ]
    }
   ],
   "source": [
    "def is_palindrome(number):\n",
    "    string = str(number)\n",
    "\n",
    "    left = 0\n",
    "    right = len(string) - 1\n",
    "    while left < right:\n",
    "        if string[left] != string[right]:\n",
    "            return False\n",
    "        left += 1\n",
    "        right -= 1\n",
    "    return True\n",
    "\n",
    "print(is_palindrome(121))  \n",
    "print(is_palindrome(12321))  \n",
    "print(is_palindrome(1234))  \n"
   ]
  },
  {
   "cell_type": "markdown",
   "id": "76edf0cf-2086-4290-94ea-0ded32acaa09",
   "metadata": {},
   "source": [
    "Q9. Write a code to print odd numbers from 1 to 100 using list comprehension.\n",
    "Note: Use a list comprehension to create a list from 1 to 100 and use another List comprehension to filter\n",
    "out odd numbers."
   ]
  },
  {
   "cell_type": "code",
   "execution_count": 67,
   "id": "4a853d16-d10d-4dc8-85b2-158e7071ae3d",
   "metadata": {},
   "outputs": [
    {
     "data": {
      "text/plain": [
       "[1,\n",
       " 2,\n",
       " 3,\n",
       " 4,\n",
       " 5,\n",
       " 6,\n",
       " 7,\n",
       " 8,\n",
       " 9,\n",
       " 10,\n",
       " 11,\n",
       " 12,\n",
       " 13,\n",
       " 14,\n",
       " 15,\n",
       " 16,\n",
       " 17,\n",
       " 18,\n",
       " 19,\n",
       " 20,\n",
       " 21,\n",
       " 22,\n",
       " 23,\n",
       " 24,\n",
       " 25,\n",
       " 26,\n",
       " 27,\n",
       " 28,\n",
       " 29,\n",
       " 30,\n",
       " 31,\n",
       " 32,\n",
       " 33,\n",
       " 34,\n",
       " 35,\n",
       " 36,\n",
       " 37,\n",
       " 38,\n",
       " 39,\n",
       " 40,\n",
       " 41,\n",
       " 42,\n",
       " 43,\n",
       " 44,\n",
       " 45,\n",
       " 46,\n",
       " 47,\n",
       " 48,\n",
       " 49,\n",
       " 50,\n",
       " 51,\n",
       " 52,\n",
       " 53,\n",
       " 54,\n",
       " 55,\n",
       " 56,\n",
       " 57,\n",
       " 58,\n",
       " 59,\n",
       " 60,\n",
       " 61,\n",
       " 62,\n",
       " 63,\n",
       " 64,\n",
       " 65,\n",
       " 66,\n",
       " 67,\n",
       " 68,\n",
       " 69,\n",
       " 70,\n",
       " 71,\n",
       " 72,\n",
       " 73,\n",
       " 74,\n",
       " 75,\n",
       " 76,\n",
       " 77,\n",
       " 78,\n",
       " 79,\n",
       " 80,\n",
       " 81,\n",
       " 82,\n",
       " 83,\n",
       " 84,\n",
       " 85,\n",
       " 86,\n",
       " 87,\n",
       " 88,\n",
       " 89,\n",
       " 90,\n",
       " 91,\n",
       " 92,\n",
       " 93,\n",
       " 94,\n",
       " 95,\n",
       " 96,\n",
       " 97,\n",
       " 98,\n",
       " 99]"
      ]
     },
     "execution_count": 67,
     "metadata": {},
     "output_type": "execute_result"
    }
   ],
   "source": [
    "[i for i in range(1,100)]"
   ]
  },
  {
   "cell_type": "code",
   "execution_count": 66,
   "id": "655aba20-425f-448a-a063-2e5ad10f0c7b",
   "metadata": {},
   "outputs": [
    {
     "data": {
      "text/plain": [
       "[1,\n",
       " 3,\n",
       " 5,\n",
       " 7,\n",
       " 9,\n",
       " 11,\n",
       " 13,\n",
       " 15,\n",
       " 17,\n",
       " 19,\n",
       " 21,\n",
       " 23,\n",
       " 25,\n",
       " 27,\n",
       " 29,\n",
       " 31,\n",
       " 33,\n",
       " 35,\n",
       " 37,\n",
       " 39,\n",
       " 41,\n",
       " 43,\n",
       " 45,\n",
       " 47,\n",
       " 49,\n",
       " 51,\n",
       " 53,\n",
       " 55,\n",
       " 57,\n",
       " 59,\n",
       " 61,\n",
       " 63,\n",
       " 65,\n",
       " 67,\n",
       " 69,\n",
       " 71,\n",
       " 73,\n",
       " 75,\n",
       " 77,\n",
       " 79,\n",
       " 81,\n",
       " 83,\n",
       " 85,\n",
       " 87,\n",
       " 89,\n",
       " 91,\n",
       " 93,\n",
       " 95,\n",
       " 97,\n",
       " 99]"
      ]
     },
     "execution_count": 66,
     "metadata": {},
     "output_type": "execute_result"
    }
   ],
   "source": [
    "[i for i in range(1,100) if i % 2 != 0]"
   ]
  }
 ],
 "metadata": {
  "kernelspec": {
   "display_name": "Python 3 (ipykernel)",
   "language": "python",
   "name": "python3"
  },
  "language_info": {
   "codemirror_mode": {
    "name": "ipython",
    "version": 3
   },
   "file_extension": ".py",
   "mimetype": "text/x-python",
   "name": "python",
   "nbconvert_exporter": "python",
   "pygments_lexer": "ipython3",
   "version": "3.10.8"
  }
 },
 "nbformat": 4,
 "nbformat_minor": 5
}
