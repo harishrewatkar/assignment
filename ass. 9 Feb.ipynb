{
 "cells": [
  {
   "cell_type": "markdown",
   "id": "46f8d60e-411a-46b8-bc87-863efc6793b0",
   "metadata": {},
   "source": [
    "Q1, Create a vehicle class with an init method having instance variables as name_of_vehicle, max_speed\n",
    "and average_of_vehicle."
   ]
  },
  {
   "cell_type": "code",
   "execution_count": 19,
   "id": "5f3fbd90-a1d6-4459-a33f-3efe19bb6f87",
   "metadata": {},
   "outputs": [],
   "source": [
    "class vehicle :\n",
    "    \n",
    "    def __init__(self, name_of_vehicle, max_speed, average_of_vehicle) :\n",
    "        self.name_of_vehicle = name_of_vehicle\n",
    "        self.max_speed = max_speed\n",
    "        self.average_of_vehicle = average_of_vehicle"
   ]
  },
  {
   "cell_type": "markdown",
   "id": "016a2aa0-d41e-4b01-9139-6805a4c033df",
   "metadata": {},
   "source": [
    "Q2. Create a child class car from the vehicle class created in Que 1, which will inherit the vehicle class.\n",
    "Create a method named seating_capacity which takes capacity as an argument and returns the name of\n",
    "the vehicle and its seating capacity."
   ]
  },
  {
   "cell_type": "code",
   "execution_count": 28,
   "id": "5a5d6b18-653b-45b4-8c5d-86b26b581da9",
   "metadata": {},
   "outputs": [],
   "source": [
    "class car(vehicle) :\n",
    "    \n",
    "    def output(self, seating_capacity):\n",
    "        self.seating_capacity = seating_capacity\n",
    "        return  self.name_of_vehicle, self.seating_capacity"
   ]
  },
  {
   "cell_type": "code",
   "execution_count": 29,
   "id": "ec971701-d347-4f7a-a98b-518a6f4d38e8",
   "metadata": {},
   "outputs": [],
   "source": [
    "car = car('Mahindra Scorpio', '120km/h', '15km/l')"
   ]
  },
  {
   "cell_type": "code",
   "execution_count": 30,
   "id": "02696a1c-096f-4c1e-8bc1-355bbc1ab242",
   "metadata": {},
   "outputs": [
    {
     "data": {
      "text/plain": [
       "('Mahindra Scorpio', 8)"
      ]
     },
     "execution_count": 30,
     "metadata": {},
     "output_type": "execute_result"
    }
   ],
   "source": [
    "car.output(8)"
   ]
  },
  {
   "cell_type": "markdown",
   "id": "39b4834b-ccf5-4d5f-a789-5a51df41741f",
   "metadata": {},
   "source": [
    "Q3. What is multiple inheritance? Write a python code to demonstrate multiple inheritance."
   ]
  },
  {
   "cell_type": "markdown",
   "id": "5ffe0277-c243-4b37-8954-0cd614868677",
   "metadata": {},
   "source": [
    "Ans : Multiple inheritance is a feature in object-oriented programming languages that allows a class to inherit from more than one parent class. In Python, this is achieved by including multiple parent classes separated by commas in the class definition."
   ]
  },
  {
   "cell_type": "code",
   "execution_count": 32,
   "id": "1f3f0fc6-e59a-48c9-b612-ca6421d1be6c",
   "metadata": {},
   "outputs": [],
   "source": [
    "class pwskills1 :\n",
    "    \n",
    "    def data_science_masters(self):\n",
    "        return 'This is a data science masters class'"
   ]
  },
  {
   "cell_type": "code",
   "execution_count": 33,
   "id": "8cd2b534-6703-493d-9f5d-5b9ef4089543",
   "metadata": {},
   "outputs": [],
   "source": [
    "class pwskills2 :\n",
    "    \n",
    "    def DSA(self):\n",
    "        return 'This is a DSA class'"
   ]
  },
  {
   "cell_type": "code",
   "execution_count": 34,
   "id": "34bdd90a-f3ca-43bc-bf71-0e17bf6b3130",
   "metadata": {},
   "outputs": [],
   "source": [
    "class pwskills3(pwskills1, pwskills2):\n",
    "    \n",
    "    def web_development(self):\n",
    "        pass"
   ]
  },
  {
   "cell_type": "markdown",
   "id": "143919a8-6c77-4063-a47f-a3c359af01e1",
   "metadata": {},
   "source": [
    "Q4. What are getter and setter in python? Create a class and create a getter and a setter method in this\n",
    "class."
   ]
  },
  {
   "cell_type": "markdown",
   "id": "5e1fcf9d-5248-4691-963d-522a21930129",
   "metadata": {},
   "source": [
    "Ans : In Python, getters and setters are methods that allow you to get and set the values of class attributes. They are used to control access to the attributes of an object, providing a way to validate or modify values before they are assigned or retrieved."
   ]
  },
  {
   "cell_type": "code",
   "execution_count": 2,
   "id": "22dbfd2d-cdea-4230-b921-6a4d0603dfe7",
   "metadata": {},
   "outputs": [],
   "source": [
    "class Person:\n",
    "    def __init__(self, name, age):\n",
    "        self._name = name\n",
    "        self._age = age\n",
    "        \n",
    "    @property\n",
    "    def name(self):\n",
    "        return self._name\n",
    "    \n",
    "    @name.setter\n",
    "    def name(self, value):\n",
    "        if not isinstance(value, str):\n",
    "            raise TypeError(\"Name must be a string\")\n",
    "        self._name = value\n",
    "    \n",
    "    @property\n",
    "    def age(self):\n",
    "        return self._age\n",
    "    \n",
    "    @age.setter\n",
    "    def age(self, value):\n",
    "        if not isinstance(value, int):\n",
    "            raise TypeError(\"Age must be an integer\")\n",
    "        self._age = value\n"
   ]
  },
  {
   "cell_type": "code",
   "execution_count": 4,
   "id": "956a3678-0f74-4cf5-b44a-a210320aaaf7",
   "metadata": {},
   "outputs": [
    {
     "name": "stdout",
     "output_type": "stream",
     "text": [
      "Alice\n",
      "30\n",
      "Bob\n",
      "40\n"
     ]
    }
   ],
   "source": [
    "person = Person(\"Alice\", 30)\n",
    "\n",
    "\n",
    "print(person.name) \n",
    "print(person.age)\n",
    "\n",
    "\n",
    "person.name = \"Bob\"\n",
    "person.age = 40\n",
    "\n",
    "\n",
    "print(person.name) \n",
    "print(person.age) \n"
   ]
  },
  {
   "cell_type": "markdown",
   "id": "67596472-90f5-4166-b62a-4909e92fb958",
   "metadata": {},
   "source": [
    "Q5.What is method overriding in python? Write a python code to demonstrate method overriding."
   ]
  },
  {
   "cell_type": "markdown",
   "id": "9bd96a73-3150-4ab8-bded-7530128e8052",
   "metadata": {},
   "source": [
    "Ans : Method overriding is a feature of object-oriented programming that allows a subclass to provide a different implementation of a method that is already defined in its superclass. When a method in a subclass has the same name and parameters as a method in its superclass, it overrides the superclass method."
   ]
  },
  {
   "cell_type": "code",
   "execution_count": 5,
   "id": "3f07635b-7a3d-453b-9a43-d81f379d2fb0",
   "metadata": {},
   "outputs": [
    {
     "name": "stdout",
     "output_type": "stream",
     "text": [
      "Meow\n",
      "Woof\n",
      "Generic animal sound\n"
     ]
    }
   ],
   "source": [
    "class Animal:\n",
    "    def make_sound(self):\n",
    "        print(\"Generic animal sound\")\n",
    "        \n",
    "class Cat(Animal):\n",
    "    def make_sound(self):\n",
    "        print(\"Meow\")\n",
    "        \n",
    "class Dog(Animal):\n",
    "    def make_sound(self):\n",
    "        print(\"Woof\")\n",
    "        \n",
    "\n",
    "cat = Cat()\n",
    "cat.make_sound() \n",
    "\n",
    "dog = Dog()\n",
    "dog.make_sound() \n",
    "\n",
    "\n",
    "animal = Animal()\n",
    "animal.make_sound() \n"
   ]
  },
  {
   "cell_type": "code",
   "execution_count": null,
   "id": "9d50674d-941e-4cda-9d43-2746b07e04e2",
   "metadata": {},
   "outputs": [],
   "source": []
  }
 ],
 "metadata": {
  "kernelspec": {
   "display_name": "Python 3 (ipykernel)",
   "language": "python",
   "name": "python3"
  },
  "language_info": {
   "codemirror_mode": {
    "name": "ipython",
    "version": 3
   },
   "file_extension": ".py",
   "mimetype": "text/x-python",
   "name": "python",
   "nbconvert_exporter": "python",
   "pygments_lexer": "ipython3",
   "version": "3.10.8"
  }
 },
 "nbformat": 4,
 "nbformat_minor": 5
}
