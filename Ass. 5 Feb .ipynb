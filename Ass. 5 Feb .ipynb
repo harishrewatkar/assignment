{
 "cells": [
  {
   "cell_type": "markdown",
   "id": "93015824-65dd-4a8c-b711-5c4872abd196",
   "metadata": {},
   "source": [
    "Q1. Explain Class and Object with respect to Object-Oriented Programming. Give a suitable example."
   ]
  },
  {
   "cell_type": "markdown",
   "id": "6ce4cbfd-4f30-4805-905a-a4b37aeab611",
   "metadata": {},
   "source": [
    "Ans : In Oop's Object Orieneted Programming, a class is a blueprint for creating objects/variables/instance. It defines a set of variables and methods that an object of that class will have. An object is an instance of class, created from the class blueprint, that has its own set of attributes and methods."
   ]
  },
  {
   "cell_type": "code",
   "execution_count": 10,
   "id": "c216fe59-0c6b-4cf5-8e2f-1c339d015ce6",
   "metadata": {},
   "outputs": [],
   "source": [
    "class pwskills :\n",
    "    \n",
    "    def __init__(self, student_name, course_completion, assignment_submission, quiz_completion):\n",
    "        self.student_name = student_name\n",
    "        self.course_completion = course_completion\n",
    "        self.assignment_submission = assignment_submission\n",
    "        self.quiz_completion = quiz_completion\n",
    "    \n",
    "    def result(self):\n",
    "        return self.student_name, self.course_completion, self.assignment_submission, self.quiz_completion"
   ]
  },
  {
   "cell_type": "code",
   "execution_count": 11,
   "id": "07c77c71-82dc-4fc1-b8cd-fdb080acc42a",
   "metadata": {},
   "outputs": [],
   "source": [
    "harish = pwskills('Harish', '30%','28%', '30%')"
   ]
  },
  {
   "cell_type": "code",
   "execution_count": 12,
   "id": "7fc4db0f-00a7-467a-aac0-530d0fd3cd65",
   "metadata": {},
   "outputs": [
    {
     "data": {
      "text/plain": [
       "('Harish', '30%', '28%', '30%')"
      ]
     },
     "execution_count": 12,
     "metadata": {},
     "output_type": "execute_result"
    }
   ],
   "source": [
    "harish.result()"
   ]
  },
  {
   "cell_type": "markdown",
   "id": "3f52fc23-04c6-47c6-8e85-bb9d0f941f81",
   "metadata": {},
   "source": [
    "In this example I have defined a class 'pwskills' with a constructor that initializes the object with student_name, course_completion, assignment_submission, quiz_completion. I also defined a function 'result' that prints the result of that student. I have created an object of the class called 'harish'. Then finally I call the 'result' of the 'harish' object to print its details."
   ]
  },
  {
   "cell_type": "markdown",
   "id": "d0a3e958-ff67-4f03-b97f-84607bd476d4",
   "metadata": {},
   "source": [
    "Q2. Name the four pillars of OOPs."
   ]
  },
  {
   "cell_type": "markdown",
   "id": "99594725-788e-4827-8135-72b5d5e150fe",
   "metadata": {},
   "source": [
    "Answer : There are four basic pillar of OOps. 1. Encapsulation 2. Inheritance 3. Polymorphism 4. Abstraction"
   ]
  },
  {
   "cell_type": "markdown",
   "id": "d8861bf1-25f4-40e7-8cd3-bfa4a251be18",
   "metadata": {},
   "source": [
    "Q3. Explain why the __init__() function is used. Give a suitable example."
   ]
  },
  {
   "cell_type": "markdown",
   "id": "b7a7d59c-9500-48fc-8047-e7728275baa7",
   "metadata": {},
   "source": [
    "In Python, the __init() function is a special method that is called when an object of a class is created. It is also known as a constructor and is used to initialize the attributes of the object. The __init__() method takes self as the first parameter, which refers to the object being created, followed by other parameters that are used to initialize the attributes of the object. The self parameter is used to refer to the object being created and is used to access the attributes and methods of the object."
   ]
  },
  {
   "cell_type": "code",
   "execution_count": 13,
   "id": "c539d659-c005-4425-860b-253265a91fe3",
   "metadata": {},
   "outputs": [],
   "source": [
    "class Car:\n",
    "    \n",
    "    def __init__(self, make, model, year):\n",
    "        self.make = make\n",
    "        self.model = model\n",
    "        self.year = year\n",
    "\n",
    "    def print_details(self):\n",
    "        self.make, self.model, self.year"
   ]
  },
  {
   "cell_type": "code",
   "execution_count": 14,
   "id": "85dbaec5-26cf-4667-a276-2fa29b44b7eb",
   "metadata": {},
   "outputs": [],
   "source": [
    "my_car = Car(\"Toyota\", \"Camry\", 2022)"
   ]
  },
  {
   "cell_type": "markdown",
   "id": "1c77b2fa-9d7b-4b41-8d05-f024cf76f3ca",
   "metadata": {},
   "source": [
    "Q4. Why self is used in OOPs?"
   ]
  },
  {
   "cell_type": "markdown",
   "id": "43737d53-b326-46a8-a804-cec36fba0f7b",
   "metadata": {},
   "source": [
    "In Object-Oriented Programming (OOP), the \"self\" keyword is used to refer to the instance of a class, which is the object that is being operated on. In OOP, everything is an object, and each object has its own state and behavior. When you create an instance of a class, you can access and modify its state and behavior using the methods and attributes of that object. The \"self\" keyword is used to refer to that object, allowing you to access and modify its attributes and behavior from within the class."
   ]
  },
  {
   "cell_type": "markdown",
   "id": "df33128a-56ec-4d9c-86f9-04d30b7a89c2",
   "metadata": {},
   "source": [
    "Q5. What is inheritance? Give an example for each type of inheritance."
   ]
  },
  {
   "cell_type": "markdown",
   "id": "695bad9e-f0e1-4a07-bea3-fd3483942fb3",
   "metadata": {},
   "source": [
    "Ans : heritance is a fundamental concept in object-oriented programming that allows a new class to be based on an existing class. The new class inherits the attributes and behaviors of the existing class and can add or modify its own attributes and behaviors. There are two types of inheritance 1. Multilevel Inheritance 2. Multiple Inheritance"
   ]
  },
  {
   "cell_type": "markdown",
   "id": "22568ea4-d990-4d3c-a693-a35a69d6152f",
   "metadata": {},
   "source": [
    "Multilevel Inheritance :"
   ]
  },
  {
   "cell_type": "code",
   "execution_count": 16,
   "id": "fbd61a73-2581-40f1-8f51-86ee283cea2f",
   "metadata": {},
   "outputs": [],
   "source": [
    "class pwskills :\n",
    "    \n",
    "    def data_science(self):\n",
    "        return 'this is a data science classes'"
   ]
  },
  {
   "cell_type": "code",
   "execution_count": 17,
   "id": "e94ac37b-b5d4-4410-9b29-b03682bda8f0",
   "metadata": {},
   "outputs": [],
   "source": [
    "class pwskills2(pwskills) :\n",
    "    \n",
    "    def web_development(self):\n",
    "        return 'this is a web_development classes'"
   ]
  },
  {
   "cell_type": "markdown",
   "id": "3cc36714-83de-49ea-8092-d1c31c887255",
   "metadata": {},
   "source": [
    "Multiple Inheritance :"
   ]
  },
  {
   "cell_type": "code",
   "execution_count": 18,
   "id": "2c31d04e-f094-4963-8df3-11c8f0afbba3",
   "metadata": {},
   "outputs": [],
   "source": [
    "class school1 :\n",
    "    \n",
    "    def data_science(self):\n",
    "        return 'this is a data science classes'"
   ]
  },
  {
   "cell_type": "code",
   "execution_count": 19,
   "id": "a187700c-8ed9-495f-b060-a660af4b6122",
   "metadata": {},
   "outputs": [],
   "source": [
    "class school2 :\n",
    "    \n",
    "    def web_development(self):\n",
    "        return 'this is a web_development classes'"
   ]
  },
  {
   "cell_type": "code",
   "execution_count": 20,
   "id": "e1d41022-fd4b-44e8-95cf-8f4604491869",
   "metadata": {},
   "outputs": [],
   "source": [
    "class school3 (school1, school2):\n",
    "    \n",
    "    def DSA(self) :\n",
    "        pass"
   ]
  }
 ],
 "metadata": {
  "kernelspec": {
   "display_name": "Python 3 (ipykernel)",
   "language": "python",
   "name": "python3"
  },
  "language_info": {
   "codemirror_mode": {
    "name": "ipython",
    "version": 3
   },
   "file_extension": ".py",
   "mimetype": "text/x-python",
   "name": "python",
   "nbconvert_exporter": "python",
   "pygments_lexer": "ipython3",
   "version": "3.10.8"
  }
 },
 "nbformat": 4,
 "nbformat_minor": 5
}
